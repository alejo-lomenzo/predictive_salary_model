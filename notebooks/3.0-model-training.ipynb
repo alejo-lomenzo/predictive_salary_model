{
 "cells": [
  {
   "cell_type": "markdown",
   "metadata": {},
   "source": [
    "# # Table of Contents\n",
    "# \n",
    "# 1. [Importación de Librerías](#import-librerias)\n",
    "# 2. [Preparación de Datos](#preparacion-datos)\n",
    "# 3. [Entrenamiento de Modelos con Salary](#modelos-salary)\n",
    "# 4. [Entrenamiento de Modelos con Salary_log](#modelos-salary-log)\n",
    "# 5. [Intervalos de Confianza](#intervalos-confianza)\n",
    "# 6. [Mejora de la Inestabilidad MSE](#mejora-mse)\n",
    "# 7. [Evaluación Final del Modelo](#evaluacion-final)\n",
    "# 8. [Conclusión Global](#conclusion-global)"
   ]
  },
  {
   "cell_type": "markdown",
   "metadata": {},
   "source": [
    "# # Importación de Librerías <a id=\"import-librerias\"></a>"
   ]
  },
  {
   "cell_type": "code",
   "execution_count": 48,
   "metadata": {},
   "outputs": [],
   "source": [
    "import os\n",
    "import matplotlib.pyplot as plt\n",
    "import pandas as pd\n",
    "import numpy as np\n",
    "import scipy.stats as st\n",
    "import seaborn as sns\n",
    "\n",
    "from sklearn.dummy import DummyRegressor\n",
    "from sklearn.linear_model import LinearRegression\n",
    "from sklearn.ensemble import RandomForestRegressor\n",
    "from sklearn.model_selection import train_test_split, cross_val_score, RepeatedKFold\n",
    "from sklearn.metrics import mean_squared_error, mean_absolute_error, r2_score\n",
    "\n",
    "from project_pwc.config import FIGURES_DIR\n",
    "\n",
    "sns.set_style(\"whitegrid\")\n",
    "plt.rcParams[\"figure.figsize\"] = (10, 6)"
   ]
  },
  {
   "cell_type": "markdown",
   "metadata": {},
   "source": [
    "# # Preparación de Datos <a id=\"preparacion-datos\"></a>"
   ]
  },
  {
   "cell_type": "code",
   "execution_count": 49,
   "metadata": {},
   "outputs": [],
   "source": [
    "df = pd.read_csv('C:/Users/Usuario/Documents/prueba_pwc/predictive_salary_model/data/interim/dataset_cleaned.csv')"
   ]
  },
  {
   "cell_type": "code",
   "execution_count": 50,
   "metadata": {},
   "outputs": [],
   "source": [
    "df[\"Salary_log\"] = np.log(df[\"Salary\"])"
   ]
  },
  {
   "cell_type": "code",
   "execution_count": 51,
   "metadata": {},
   "outputs": [],
   "source": [
    "df = pd.get_dummies(df, columns=[\"Gender\"], prefix=\"gender\", drop_first=False)"
   ]
  },
  {
   "cell_type": "code",
   "execution_count": 52,
   "metadata": {},
   "outputs": [],
   "source": [
    "edu_map = {\"Missing\": 0, \"Bachelor's\": 1, \"Master's\": 2, \"PhD\": 3}\n",
    "df[\"Education_Level_ordinal\"] = df[\"Education Level\"].map(edu_map)"
   ]
  },
  {
   "cell_type": "code",
   "execution_count": 53,
   "metadata": {},
   "outputs": [],
   "source": [
    "bins = [0, 2, 7, 15, float('inf')]\n",
    "labels = [\"junior\", \"semi-senior\", \"senior\", \"expert\"]\n",
    "df[\"experience_level\"] = pd.cut(df[\"Years of Experience\"], bins=bins, labels=labels, include_lowest=True)\n"
   ]
  },
  {
   "cell_type": "code",
   "execution_count": 54,
   "metadata": {},
   "outputs": [],
   "source": [
    "exp_map = {\"junior\": 0, \"semi-senior\": 1, \"senior\": 2, \"expert\": 3}\n",
    "df[\"experience_level_ordinal\"] = df[\"experience_level\"].map(exp_map)"
   ]
  },
  {
   "cell_type": "code",
   "execution_count": 55,
   "metadata": {},
   "outputs": [],
   "source": [
    "df.drop(columns=[\"experience_level\", \"id\", \"Description\", \"Job Title\", \"Age\", \"Education Level\"], inplace=True)"
   ]
  },
  {
   "cell_type": "code",
   "execution_count": 74,
   "metadata": {},
   "outputs": [
    {
     "data": {
      "text/html": [
       "<div>\n",
       "<style scoped>\n",
       "    .dataframe tbody tr th:only-of-type {\n",
       "        vertical-align: middle;\n",
       "    }\n",
       "\n",
       "    .dataframe tbody tr th {\n",
       "        vertical-align: top;\n",
       "    }\n",
       "\n",
       "    .dataframe thead th {\n",
       "        text-align: right;\n",
       "    }\n",
       "</style>\n",
       "<table border=\"1\" class=\"dataframe\">\n",
       "  <thead>\n",
       "    <tr style=\"text-align: right;\">\n",
       "      <th></th>\n",
       "      <th>Years of Experience</th>\n",
       "      <th>Salary</th>\n",
       "      <th>Salary_log</th>\n",
       "      <th>gender_Female</th>\n",
       "      <th>gender_Male</th>\n",
       "      <th>gender_Missing</th>\n",
       "      <th>Education_Level_ordinal</th>\n",
       "      <th>experience_level_ordinal</th>\n",
       "    </tr>\n",
       "  </thead>\n",
       "  <tbody>\n",
       "    <tr>\n",
       "      <th>0</th>\n",
       "      <td>5</td>\n",
       "      <td>90000.0</td>\n",
       "      <td>11.407565</td>\n",
       "      <td>False</td>\n",
       "      <td>True</td>\n",
       "      <td>False</td>\n",
       "      <td>1</td>\n",
       "      <td>1</td>\n",
       "    </tr>\n",
       "    <tr>\n",
       "      <th>1</th>\n",
       "      <td>3</td>\n",
       "      <td>65000.0</td>\n",
       "      <td>11.082143</td>\n",
       "      <td>True</td>\n",
       "      <td>False</td>\n",
       "      <td>False</td>\n",
       "      <td>2</td>\n",
       "      <td>1</td>\n",
       "    </tr>\n",
       "    <tr>\n",
       "      <th>2</th>\n",
       "      <td>15</td>\n",
       "      <td>150000.0</td>\n",
       "      <td>11.918391</td>\n",
       "      <td>False</td>\n",
       "      <td>True</td>\n",
       "      <td>False</td>\n",
       "      <td>3</td>\n",
       "      <td>2</td>\n",
       "    </tr>\n",
       "    <tr>\n",
       "      <th>3</th>\n",
       "      <td>7</td>\n",
       "      <td>60000.0</td>\n",
       "      <td>11.002100</td>\n",
       "      <td>True</td>\n",
       "      <td>False</td>\n",
       "      <td>False</td>\n",
       "      <td>1</td>\n",
       "      <td>1</td>\n",
       "    </tr>\n",
       "    <tr>\n",
       "      <th>4</th>\n",
       "      <td>20</td>\n",
       "      <td>200000.0</td>\n",
       "      <td>12.206073</td>\n",
       "      <td>False</td>\n",
       "      <td>True</td>\n",
       "      <td>False</td>\n",
       "      <td>2</td>\n",
       "      <td>3</td>\n",
       "    </tr>\n",
       "  </tbody>\n",
       "</table>\n",
       "</div>"
      ],
      "text/plain": [
       "   Years of Experience    Salary  Salary_log  gender_Female  gender_Male  \\\n",
       "0                    5   90000.0   11.407565          False         True   \n",
       "1                    3   65000.0   11.082143           True        False   \n",
       "2                   15  150000.0   11.918391          False         True   \n",
       "3                    7   60000.0   11.002100           True        False   \n",
       "4                   20  200000.0   12.206073          False         True   \n",
       "\n",
       "   gender_Missing  Education_Level_ordinal experience_level_ordinal  \n",
       "0           False                        1                        1  \n",
       "1           False                        2                        1  \n",
       "2           False                        3                        2  \n",
       "3           False                        1                        1  \n",
       "4           False                        2                        3  "
      ]
     },
     "execution_count": 74,
     "metadata": {},
     "output_type": "execute_result"
    }
   ],
   "source": [
    "df.head()"
   ]
  },
  {
   "cell_type": "code",
   "execution_count": 56,
   "metadata": {},
   "outputs": [],
   "source": [
    "TARGET_COLUMN = \"Salary\" \n",
    "y = df[TARGET_COLUMN]\n",
    "\n",
    "feature_cols = df.drop(columns=[\"Salary\", \"Salary_log\"], errors=\"ignore\").columns\n",
    "X = df[feature_cols]"
   ]
  },
  {
   "cell_type": "markdown",
   "metadata": {},
   "source": [
    "# # 3. Entrenamiento de Modelos con Salary <a id=\"modelos-salary\"></a>\n",
    "* Entrenaremos distintos modelos (Dummy, Linear, RandomForest) tomando `Salary` directamente como `y`.\n"
   ]
  },
  {
   "cell_type": "code",
   "execution_count": 58,
   "metadata": {},
   "outputs": [],
   "source": [
    "X = df.drop(columns=[\"Salary\", \"Salary_log\"], errors=\"ignore\")\n",
    "y_salary = df[\"Salary\"] "
   ]
  },
  {
   "cell_type": "code",
   "execution_count": 59,
   "metadata": {},
   "outputs": [],
   "source": [
    "X_trainA, X_testA, y_trainA, y_testA = train_test_split(X, y_salary, test_size=0.2, random_state=42)"
   ]
  },
  {
   "cell_type": "code",
   "execution_count": 60,
   "metadata": {},
   "outputs": [
    {
     "name": "stdout",
     "output_type": "stream",
     "text": [
      "=== Baseline con SALARY ===\n",
      "MAE: 40209.50559284116\n",
      "MSE: 2403174600.7218146\n",
      "R2: -0.0023325074934903434\n"
     ]
    }
   ],
   "source": [
    "baseline = DummyRegressor(strategy='mean')\n",
    "baseline.fit(X_trainA, y_trainA)\n",
    "y_pred_base = baseline.predict(X_testA)\n",
    "\n",
    "print(\"=== Baseline con SALARY ===\")\n",
    "print(\"MAE:\", mean_absolute_error(y_testA, y_pred_base))\n",
    "print(\"MSE:\", mean_squared_error(y_testA, y_pred_base))\n",
    "print(\"R2:\", r2_score(y_testA, y_pred_base))"
   ]
  },
  {
   "cell_type": "code",
   "execution_count": 61,
   "metadata": {},
   "outputs": [
    {
     "name": "stdout",
     "output_type": "stream",
     "text": [
      "\n",
      "=== Linear Regression (SALARY) ===\n",
      "MAE: 10802.316430539078\n",
      "MSE: 222255373.93838406\n",
      "R2: 0.907300207734947\n"
     ]
    }
   ],
   "source": [
    "lr_salary = LinearRegression()\n",
    "lr_salary.fit(X_trainA, y_trainA)\n",
    "y_pred_lrA = lr_salary.predict(X_testA)\n",
    "\n",
    "print(\"\\n=== Linear Regression (SALARY) ===\")\n",
    "print(\"MAE:\", mean_absolute_error(y_testA, y_pred_lrA))\n",
    "print(\"MSE:\", mean_squared_error(y_testA, y_pred_lrA))\n",
    "print(\"R2:\", r2_score(y_testA, y_pred_lrA))"
   ]
  },
  {
   "cell_type": "code",
   "execution_count": 62,
   "metadata": {},
   "outputs": [
    {
     "name": "stdout",
     "output_type": "stream",
     "text": [
      "\n",
      "=== RandomForest (SALARY) ===\n",
      "MAE: 10351.17812591913\n",
      "MSE: 255493401.51515874\n",
      "R2: 0.8934370637440111\n"
     ]
    }
   ],
   "source": [
    "rf_salary = RandomForestRegressor(n_estimators=100, random_state=42)\n",
    "rf_salary.fit(X_trainA, y_trainA)\n",
    "y_pred_rfA = rf_salary.predict(X_testA)\n",
    "\n",
    "print(\"\\n=== RandomForest (SALARY) ===\")\n",
    "print(\"MAE:\", mean_absolute_error(y_testA, y_pred_rfA))\n",
    "print(\"MSE:\", mean_squared_error(y_testA, y_pred_rfA))\n",
    "print(\"R2:\", r2_score(y_testA, y_pred_rfA))"
   ]
  },
  {
   "cell_type": "markdown",
   "metadata": {},
   "source": [
    "# # 4. Entrenamiento de Modelos con Salary_log <a id=\"modelos-salary-log\"></a>\n",
    "* En esta sección entrenamos modelos tomando `Salary_log` como `y` y luego comparamos en escala real si queremos."
   ]
  },
  {
   "cell_type": "code",
   "execution_count": 63,
   "metadata": {},
   "outputs": [],
   "source": [
    "y_log = df[\"Salary_log\"]\n",
    "\n",
    "X_trainB, X_testB, y_trainB, y_testB = train_test_split(X, y_log, test_size=0.2, random_state=42)"
   ]
  },
  {
   "cell_type": "code",
   "execution_count": 64,
   "metadata": {},
   "outputs": [
    {
     "name": "stdout",
     "output_type": "stream",
     "text": [
      "=== Baseline con SALARY_LOG ===\n",
      "MAE(log): 0.4524474825951692\n",
      "MSE(log): 0.27525537303634984\n",
      "R2(log): -0.004641140426039803\n"
     ]
    }
   ],
   "source": [
    "baseline_log = DummyRegressor(strategy='mean')\n",
    "baseline_log.fit(X_trainB, y_trainB)\n",
    "y_pred_baseB_log = baseline_log.predict(X_testB)\n",
    "\n",
    "print(\"=== Baseline con SALARY_LOG ===\")\n",
    "print(\"MAE(log):\", mean_absolute_error(y_testB, y_pred_baseB_log))\n",
    "print(\"MSE(log):\", mean_squared_error(y_testB, y_pred_baseB_log))\n",
    "print(\"R2(log):\", r2_score(y_testB, y_pred_baseB_log))"
   ]
  },
  {
   "cell_type": "code",
   "execution_count": 65,
   "metadata": {},
   "outputs": [
    {
     "name": "stdout",
     "output_type": "stream",
     "text": [
      "\n",
      "=== Linear Regression (SALARY_LOG) ===\n",
      "MAE(log): 0.1420740681548171\n",
      "MSE(log): 0.032986879177174064\n",
      "R2(log): 0.8796028010276997\n"
     ]
    }
   ],
   "source": [
    "lr_log = LinearRegression()\n",
    "lr_log.fit(X_trainB, y_trainB)\n",
    "y_pred_lrB_log = lr_log.predict(X_testB)\n",
    "\n",
    "print(\"\\n=== Linear Regression (SALARY_LOG) ===\")\n",
    "print(\"MAE(log):\", mean_absolute_error(y_testB, y_pred_lrB_log))\n",
    "print(\"MSE(log):\", mean_squared_error(y_testB, y_pred_lrB_log))\n",
    "print(\"R2(log):\", r2_score(y_testB, y_pred_lrB_log))\n"
   ]
  },
  {
   "cell_type": "code",
   "execution_count": 66,
   "metadata": {},
   "outputs": [
    {
     "name": "stdout",
     "output_type": "stream",
     "text": [
      "\n",
      "=== RandomForest (SALARY_LOG) ===\n",
      "MAE(log): 0.10597302791226011\n",
      "MSE(log): 0.02232255363699167\n",
      "R2(log): 0.9185260018879734\n"
     ]
    }
   ],
   "source": [
    "rf_log = RandomForestRegressor(n_estimators=100, random_state=42)\n",
    "rf_log.fit(X_trainB, y_trainB)\n",
    "y_pred_rfB_log = rf_log.predict(X_testB)\n",
    "\n",
    "print(\"\\n=== RandomForest (SALARY_LOG) ===\")\n",
    "mae_log = mean_absolute_error(y_testB, y_pred_rfB_log)\n",
    "mse_log = mean_squared_error(y_testB, y_pred_rfB_log)\n",
    "r2_log = r2_score(y_testB, y_pred_rfB_log)\n",
    "\n",
    "print(\"MAE(log):\", mae_log)\n",
    "print(\"MSE(log):\", mse_log)\n",
    "print(\"R2(log):\", r2_log)"
   ]
  },
  {
   "cell_type": "markdown",
   "metadata": {},
   "source": [
    "## Convertimos las predicciones al espacio real para comparar:"
   ]
  },
  {
   "cell_type": "code",
   "execution_count": 67,
   "metadata": {},
   "outputs": [
    {
     "name": "stdout",
     "output_type": "stream",
     "text": [
      "=== RandomForest (SALARY_LOG) en escala real ===\n",
      "MAE : 10689.56\n",
      "MSE : 282528641.28\n",
      "R2  : 0.88\n"
     ]
    }
   ],
   "source": [
    "y_testB_real = np.exp(y_testB)\n",
    "y_pred_rfB = np.exp(y_pred_rfB_log)\n",
    "\n",
    "maeB_real = mean_absolute_error(y_testB_real, y_pred_rfB)\n",
    "mseB_real = mean_squared_error(y_testB_real, y_pred_rfB)\n",
    "r2B_real = r2_score(y_testB_real, y_pred_rfB)\n",
    "\n",
    "print(\"=== RandomForest (SALARY_LOG) en escala real ===\")\n",
    "print(f\"MAE : {maeB_real:.2f}\")\n",
    "print(f\"MSE : {mseB_real:.2f}\")\n",
    "print(f\"R2  : {r2B_real:.2f}\")"
   ]
  },
  {
   "cell_type": "markdown",
   "metadata": {},
   "source": [
    "# # Intervalos de Confianza <a id=\"intervalos-confianza\"></a>\n",
    "* Calculamos MAE, MSE y R² con cross-validation y sus intervalos de confianza."
   ]
  },
  {
   "cell_type": "code",
   "execution_count": 68,
   "metadata": {},
   "outputs": [],
   "source": [
    "def confidence_intervals_all(model, X, y, cv=5, confidence=0.95):\n",
    "    results = {}\n",
    "    metrics = {\"MAE\": \"neg_mean_absolute_error\",\"MSE\": \"neg_mean_squared_error\",\"R2\":  \"r2\"}\n",
    "\n",
    "    for metric_name, scoring_method in metrics.items():\n",
    "        scores = cross_val_score(model, X, y, scoring=scoring_method, cv=cv)\n",
    "        if scoring_method.startswith('neg_'):\n",
    "            scores = -scores\n",
    "\n",
    "        mean_val = np.mean(scores)\n",
    "        std_val  = np.std(scores, ddof=1)\n",
    "        n = len(scores)\n",
    "        alpha = 1 - confidence\n",
    "        t_crit = st.t.ppf(1 - alpha/2, df=n-1)\n",
    "        ci_lower = mean_val - t_crit * (std_val / np.sqrt(n))\n",
    "        ci_upper = mean_val + t_crit * (std_val / np.sqrt(n))\n",
    "\n",
    "        results[metric_name] = {\n",
    "            \"mean\": mean_val,\n",
    "            \"ci_lower\": ci_lower,\n",
    "            \"ci_upper\": ci_upper\n",
    "        }\n",
    "\n",
    "    return results"
   ]
  },
  {
   "cell_type": "code",
   "execution_count": 69,
   "metadata": {},
   "outputs": [
    {
     "name": "stdout",
     "output_type": "stream",
     "text": [
      "MAE (5-fold CV) = 12199.849 (95% CI: [6926.512, 17473.185])\n",
      "MSE (5-fold CV) = 323750357.532 (95% CI: [66432953.407, 581067761.656])\n",
      "R2 (5-fold CV) = 0.862 (95% CI: [0.759, 0.965])\n"
     ]
    }
   ],
   "source": [
    "model_cv = RandomForestRegressor(random_state=42)\n",
    "all_metrics = confidence_intervals_all(model_cv, X, y_salary, cv=5, confidence=0.95)\n",
    "for m in [\"MAE\", \"MSE\", \"R2\"]:\n",
    "    mean_val = all_metrics[m][\"mean\"]\n",
    "    lower = all_metrics[m][\"ci_lower\"]\n",
    "    upper = all_metrics[m][\"ci_upper\"]\n",
    "    print(f\"{m} (5-fold CV) = {mean_val:.3f} (95% CI: [{lower:.3f}, {upper:.3f}])\")"
   ]
  },
  {
   "cell_type": "markdown",
   "metadata": {},
   "source": [
    "# # 6. Mejora de la Inestabilidad de MSE <a id=\"mejora-mse\"></a>\n",
    "* Uso de RepeatedKFold para obtener más estimaciones y reducir la varianza en MSE"
   ]
  },
  {
   "cell_type": "code",
   "execution_count": 70,
   "metadata": {},
   "outputs": [
    {
     "name": "stdout",
     "output_type": "stream",
     "text": [
      "RepeatedKFold MSE: 250877583.03737938 +/- 68876610.15532854\n"
     ]
    }
   ],
   "source": [
    "rkf = RepeatedKFold(n_splits=5, n_repeats=3, random_state=42)\n",
    "scores_mse = cross_val_score(RandomForestRegressor(random_state=42), X, y_salary, scoring='neg_mean_squared_error', cv=rkf)\n",
    "scores_mse = -scores_mse\n",
    "print(\"RepeatedKFold MSE:\", np.mean(scores_mse), \"+/-\", np.std(scores_mse))"
   ]
  },
  {
   "cell_type": "markdown",
   "metadata": {},
   "source": [
    "# # 7. Evaluación Final del Modelo <a id=\"evaluacion-final\"></a>\n",
    "* Evaluamos la variable Salary para Random Forest."
   ]
  },
  {
   "cell_type": "code",
   "execution_count": 71,
   "metadata": {},
   "outputs": [],
   "source": [
    "def evaluate_model_performance(model, X_test, y_test, filename_prefix=\"model_performance\", model_name=\"MyModel\"):\n",
    "    y_pred = model.predict(X_test)\n",
    "\n",
    "    plt.figure(figsize=(6,5))\n",
    "    sns.scatterplot(x=y_test, y=y_pred, alpha=0.7, color=\"teal\")\n",
    "    plt.xlabel(\"Actual\")\n",
    "    plt.ylabel(\"Predicted\")\n",
    "    plt.title(f\"Actual vs. Predicted ({model_name})\")\n",
    "\n",
    "    min_val = min(y_test.min(), y_pred.min())\n",
    "    max_val = max(y_test.max(), y_pred.max())\n",
    "    plt.plot([min_val, max_val], [min_val, max_val], color=\"red\", ls=\"--\")\n",
    "\n",
    "    plt.tight_layout()\n",
    "    output_path = os.path.join(FIGURES_DIR, f\"{filename_prefix}_actual_vs_pred.png\")\n",
    "    plt.savefig(output_path)\n",
    "    print(f\"Gráfico 'Actual vs Predicted' guardado en: {output_path}\")"
   ]
  },
  {
   "cell_type": "code",
   "execution_count": 72,
   "metadata": {},
   "outputs": [],
   "source": [
    "def plot_residuals(model, X_test, y_test, filename_prefix=\"model_performance\", model_name=\"MyModel\"):\n",
    "    y_pred = model.predict(X_test)\n",
    "    residuals = y_test - y_pred\n",
    "\n",
    "    plt.figure(figsize=(6,4))\n",
    "    sns.scatterplot(x=y_pred, y=residuals, alpha=0.7)\n",
    "    plt.axhline(0, color='red', ls='--')\n",
    "    plt.xlabel(\"Predicted\")\n",
    "    plt.ylabel(\"Residuals\")\n",
    "    plt.title(f\"Residuals ({model_name})\")\n",
    "\n",
    "    plt.tight_layout()\n",
    "    output_path = os.path.join(FIGURES_DIR, f\"{filename_prefix}_residuals.png\")\n",
    "    plt.savefig(output_path)\n",
    "    print(f\"Gráfico 'Residuals' guardado en: {output_path}\")"
   ]
  },
  {
   "cell_type": "code",
   "execution_count": 73,
   "metadata": {},
   "outputs": [
    {
     "name": "stdout",
     "output_type": "stream",
     "text": [
      "Gráfico 'Actual vs Predicted' guardado en: C:\\Users\\Usuario\\Documents\\prueba_pwc\\predictive_salary_model\\reports\\figures\\rf_salary_actual_vs_pred.png\n",
      "Gráfico 'Residuals' guardado en: C:\\Users\\Usuario\\Documents\\prueba_pwc\\predictive_salary_model\\reports\\figures\\rf_salary_residuals.png\n"
     ]
    },
    {
     "data": {
      "image/png": "[encoded data removed]",
      "text/plain": [
       "<Figure size 600x500 with 1 Axes>"
      ]
     },
     "metadata": {},
     "output_type": "display_data"
    },
    {
     "data": {
      "image/png": "[encoded data removed]",
      "text/plain": [
       "<Figure size 600x400 with 1 Axes>"
      ]
     },
     "metadata": {},
     "output_type": "display_data"
    }
   ],
   "source": [
    "evaluate_model_performance(rf_salary, X_testA, y_testA, filename_prefix=\"rf_salary\", model_name=\"RandomForest (Salary)\")\n",
    "plot_residuals(rf_salary, X_testA, y_testA, filename_prefix=\"rf_salary\", model_name=\"RandomForest (Salary)\")"
   ]
  },
  {
   "cell_type": "markdown",
   "metadata": {},
   "source": [
    "# # 8. Conclusión Global <a id=\"conclusion-global\"></a>\n",
    "\n",
    "- El **modelo Baseline** (Dummy) es ineficaz, con R² ~ -0.00 y MAE extremadamente alto (~\\$40k).\n",
    "- **Linear Regression** y **RandomForest** ofrecen mejores resultados, con R² entre 0.89 y 0.91 al predecir SALARY directamente.\n",
    "- Con `Salary_log` como target, el modelo logra un R² muy alto (0.92) en la escala logarítmica, pero al volver a la escala real, se ubica en ~0.88 de R², cerca de los valores del modelo que predice SALARY directamente.\n",
    "- **Interpretación**: el dataset no parece tener outliers tan extremos como para que la transformación log marque una gran diferencia en la escala real de salarios.\n",
    "- El **error MAE** ~ \\$10k sugiere que en promedio el modelo se desvía \\$10k del salario real. Dado que algunos salarios van hasta 200k+, este error (~5%) podría ser aceptable.\n",
    "- **Intervalos de confianza** en cross-validation confirman que, en la mayoría de particiones, el modelo mantiene R²>0.75 y un MAE entre ~\\$7k y \\$17k, lo que indica robustez."
   ]
  }
 ],
 "metadata": {
  "kernelspec": {
   "display_name": "predictive_salary_model-EQFagWwt",
   "language": "python",
   "name": "python3"
  },
  "language_info": {
   "codemirror_mode": {
    "name": "ipython",
    "version": 3
   },
   "file_extension": ".py",
   "mimetype": "text/x-python",
   "name": "python",
   "nbconvert_exporter": "python",
   "pygments_lexer": "ipython3",
   "version": "3.13.0"
  }
 },
 "nbformat": 4,
 "nbformat_minor": 2
}
