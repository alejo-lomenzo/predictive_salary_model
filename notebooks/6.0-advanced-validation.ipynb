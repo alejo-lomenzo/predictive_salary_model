{
 "cells": [
  {
   "cell_type": "markdown",
   "metadata": {},
   "source": [
    "# # Table of Contents\n",
    "# 1. [Importing Libraries](#import-libraries)\n",
    "# 2. [Advanced Validation](#advanced-validation)"
   ]
  },
  {
   "cell_type": "markdown",
   "metadata": {},
   "source": [
    "# # Importing Libraries <a id=\"import-libraries\"></a>"
   ]
  },
  {
   "cell_type": "code",
   "execution_count": 1,
   "metadata": {},
   "outputs": [],
   "source": [
    "import numpy as np\n",
    "import pandas as pd\n",
    "\n",
    "from sklearn.model_selection import RepeatedKFold, cross_val_score, KFold, GridSearchCV\n",
    "from sklearn.ensemble import RandomForestRegressor\n",
    "from sklearn.metrics import mean_absolute_error\n",
    "\n",
    "from loguru import logger"
   ]
  },
  {
   "cell_type": "code",
   "execution_count": 2,
   "metadata": {},
   "outputs": [],
   "source": [
    "df = pd.read_csv('C:/Users/Usuario/Documents/prueba_pwc/predictive_salary_model/data/processed/dataset_features.csv')"
   ]
  },
  {
   "cell_type": "markdown",
   "metadata": {},
   "source": [
    "# # Advanced Validation <a id=\"advanced-validation\"></a>"
   ]
  },
  {
   "cell_type": "code",
   "execution_count": 3,
   "metadata": {},
   "outputs": [],
   "source": [
    "def repeated_kfold_salary(df):\n",
    "\n",
    "    X = df.drop(columns=[\"Salary\", \"Salary_log\"], errors=\"ignore\")\n",
    "    y = df[\"Salary\"]\n",
    "\n",
    "    logger.info(\"Usando RepeatedKFold para evaluar MSE en SALARY.\")\n",
    "    rkf = RepeatedKFold(n_splits=5, n_repeats=3, random_state=42)\n",
    "    rf = RandomForestRegressor(random_state=42)\n",
    "    scores = cross_val_score(rf, X, y, scoring='neg_mean_squared_error', cv=rkf, n_jobs=-1)\n",
    "    mse_array = -scores\n",
    "    logger.info(f\"RepeatedKFold MSE: {np.mean(mse_array):.2f} ± {np.std(mse_array):.2f}\")"
   ]
  },
  {
   "cell_type": "code",
   "execution_count": 4,
   "metadata": {},
   "outputs": [
    {
     "name": "stderr",
     "output_type": "stream",
     "text": [
      "\u001b[32m2025-01-18 18:38:54.906\u001b[0m | \u001b[1mINFO    \u001b[0m | \u001b[36m__main__\u001b[0m:\u001b[36mrepeated_kfold_salary\u001b[0m:\u001b[36m6\u001b[0m - \u001b[1mUsando RepeatedKFold para evaluar MSE en SALARY.\u001b[0m\n",
      "\u001b[32m2025-01-18 18:38:58.607\u001b[0m | \u001b[1mINFO    \u001b[0m | \u001b[36m__main__\u001b[0m:\u001b[36mrepeated_kfold_salary\u001b[0m:\u001b[36m11\u001b[0m - \u001b[1mRepeatedKFold MSE: 250877583.04 ± 68876610.16\u001b[0m\n"
     ]
    }
   ],
   "source": [
    "repeated_kfold_salary(df)"
   ]
  },
  {
   "cell_type": "code",
   "execution_count": 5,
   "metadata": {},
   "outputs": [],
   "source": [
    "def nested_cv_salary(df):\n",
    "\n",
    "    X = df.drop(columns=[\"Salary\", \"Salary_log\"], errors=\"ignore\")\n",
    "    y = df[\"Salary\"]\n",
    "\n",
    "    param_grid = {\n",
    "        \"n_estimators\": [50, 100],\n",
    "        \"max_depth\": [None, 10]\n",
    "    }\n",
    "\n",
    "    outer_cv = KFold(n_splits=5, shuffle=True, random_state=42)\n",
    "    outer_scores = []\n",
    "\n",
    "    logger.info(\"Iniciando Nested CV con SALARY.\")\n",
    "    for train_idx, test_idx in outer_cv.split(X):\n",
    "        X_train, X_test = X.iloc[train_idx], X.iloc[test_idx]\n",
    "        y_train, y_test = y.iloc[train_idx], y.iloc[test_idx]\n",
    "\n",
    "        inner_cv = KFold(n_splits=3, shuffle=True, random_state=42)\n",
    "        rf = RandomForestRegressor(random_state=42)\n",
    "        grid = GridSearchCV(rf, param_grid, scoring='neg_mean_absolute_error', cv=inner_cv, n_jobs=-1)\n",
    "        grid.fit(X_train, y_train)\n",
    "\n",
    "        best_model = grid.best_estimator_\n",
    "        preds = best_model.predict(X_test)\n",
    "        mae = mean_absolute_error(y_test, preds)\n",
    "        outer_scores.append(mae)\n",
    "\n",
    "    logger.info(f\"Nested CV MAE: {np.mean(outer_scores):.2f} ± {np.std(outer_scores):.2f}\")"
   ]
  },
  {
   "cell_type": "code",
   "execution_count": 6,
   "metadata": {},
   "outputs": [
    {
     "name": "stderr",
     "output_type": "stream",
     "text": [
      "\u001b[32m2025-01-18 18:39:27.822\u001b[0m | \u001b[1mINFO    \u001b[0m | \u001b[36m__main__\u001b[0m:\u001b[36mnested_cv_salary\u001b[0m:\u001b[36m14\u001b[0m - \u001b[1mIniciando Nested CV con SALARY.\u001b[0m\n",
      "\u001b[32m2025-01-18 18:39:29.697\u001b[0m | \u001b[1mINFO    \u001b[0m | \u001b[36m__main__\u001b[0m:\u001b[36mnested_cv_salary\u001b[0m:\u001b[36m29\u001b[0m - \u001b[1mNested CV MAE: 10337.70 ± 722.40\u001b[0m\n"
     ]
    }
   ],
   "source": [
    "nested_cv_salary(df)"
   ]
  }
 ],
 "metadata": {
  "kernelspec": {
   "display_name": "predictive_salary_model-EQFagWwt",
   "language": "python",
   "name": "python3"
  },
  "language_info": {
   "codemirror_mode": {
    "name": "ipython",
    "version": 3
   },
   "file_extension": ".py",
   "mimetype": "text/x-python",
   "name": "python",
   "nbconvert_exporter": "python",
   "pygments_lexer": "ipython3",
   "version": "3.13.0"
  }
 },
 "nbformat": 4,
 "nbformat_minor": 2
}
