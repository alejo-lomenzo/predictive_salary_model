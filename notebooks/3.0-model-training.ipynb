{
 "cells": [
  {
   "cell_type": "code",
   "execution_count": 2,
   "metadata": {},
   "outputs": [],
   "source": [
    "import pandas as pd\n",
    "import numpy as np\n",
    "from sklearn.dummy import DummyRegressor\n",
    "from sklearn.linear_model import LinearRegression\n",
    "from sklearn.ensemble import RandomForestRegressor\n",
    "from sklearn.model_selection import train_test_split\n",
    "from sklearn.metrics import mean_squared_error, mean_absolute_error, r2_score"
   ]
  },
  {
   "cell_type": "code",
   "execution_count": 3,
   "metadata": {},
   "outputs": [],
   "source": [
    "df = pd.read_csv('C:/Users/Usuario/Documents/prueba_pwc/predictive_salary_model/data/interim/dataset_cleaned.csv')"
   ]
  },
  {
   "cell_type": "code",
   "execution_count": 42,
   "metadata": {},
   "outputs": [],
   "source": [
    "df[\"Salary_log\"] = np.log(df[\"Salary\"])"
   ]
  },
  {
   "cell_type": "code",
   "execution_count": 43,
   "metadata": {},
   "outputs": [],
   "source": [
    "df = pd.get_dummies(df, columns=[\"Gender\"], prefix=\"gender\", drop_first=False)"
   ]
  },
  {
   "cell_type": "code",
   "execution_count": 4,
   "metadata": {},
   "outputs": [
    {
     "name": "stdout",
     "output_type": "stream",
     "text": [
      "Job Title\n",
      "Director of Marketing                    12\n",
      "Director of Operations                   10\n",
      "Senior Business Analyst                  10\n",
      "Senior Marketing Manager                  9\n",
      "Senior Marketing Analyst                  9\n",
      "Junior Business Analyst                   8\n",
      "Senior Data Scientist                     7\n",
      "Senior Financial Analyst                  7\n",
      "Junior Business Development Associate     7\n",
      "Junior Financial Analyst                  7\n",
      "Senior Project Manager                    7\n",
      "Senior Software Engineer                  6\n",
      "Senior Product Manager                    6\n",
      "Junior Marketing Coordinator              6\n",
      "Senior Project Coordinator                5\n",
      "Junior Operations Analyst                 5\n",
      "Junior Project Manager                    5\n",
      "Senior Financial Manager                  5\n",
      "Senior Product Designer                   5\n",
      "Senior Operations Manager                 5\n",
      "Name: count, dtype: int64\n"
     ]
    },
    {
     "data": {
      "text/plain": [
       "174"
      ]
     },
     "execution_count": 4,
     "metadata": {},
     "output_type": "execute_result"
    }
   ],
   "source": [
    "value_counts = df[\"Job Title\"].value_counts()\n",
    "print(value_counts.head(20))  # mira los 20 más frecuentes\n",
    "\n",
    "df[\"Job Title\"].unique()\n",
    "\n",
    "valores_unicos = df[\"Job Title\"].unique()\n",
    "\n",
    "len(valores_unicos)"
   ]
  },
  {
   "cell_type": "code",
   "execution_count": 44,
   "metadata": {},
   "outputs": [],
   "source": [
    "edu_map = {\n",
    "    \"Missing\": 0,\n",
    "    \"Bachelor's\": 1,\n",
    "    \"Master's\": 2,\n",
    "    \"PhD\": 3\n",
    "}\n",
    "\n",
    "df[\"Education_Level_ordinal\"] = df[\"Education Level\"].map(edu_map)\n",
    "\n",
    "df.drop(columns=[\"Education Level\"], inplace=True)"
   ]
  },
  {
   "cell_type": "code",
   "execution_count": 45,
   "metadata": {},
   "outputs": [],
   "source": [
    "bins = [0, 2, 7, 15, float('inf')]\n",
    "labels = [\"junior\", \"semi-senior\", \"senior\", \"expert\"]\n",
    "\n",
    "df[\"experience_level\"] = pd.cut(\n",
    "    df[\"Years of Experience\"],\n",
    "    bins=bins,\n",
    "    labels=labels,\n",
    "    include_lowest=True \n",
    ")"
   ]
  },
  {
   "cell_type": "code",
   "execution_count": 46,
   "metadata": {},
   "outputs": [],
   "source": [
    "exp_map = {\n",
    "    \"junior\": 0,\n",
    "    \"semi-senior\": 1,\n",
    "    \"senior\": 2,\n",
    "    \"expert\": 3\n",
    "}\n",
    "\n",
    "df[\"experience_level_ordinal\"] = df[\"experience_level\"].map(exp_map)\n",
    "df.drop(columns=[\"experience_level\"], inplace=True)"
   ]
  },
  {
   "cell_type": "code",
   "execution_count": 47,
   "metadata": {},
   "outputs": [],
   "source": [
    "df.drop(columns=[\"id\", \"Description\", \"Job Title\", \"Age\"], inplace=True)"
   ]
  },
  {
   "cell_type": "code",
   "execution_count": 48,
   "metadata": {},
   "outputs": [],
   "source": [
    "# Si usas log(Salary), la variable objetivo la tomas de \"Salary_log\"\n",
    "TARGET_COLUMN = \"Salary_log\"  # o \"Salary\" si decides\n",
    "y = df[TARGET_COLUMN]\n",
    "\n",
    "# Quita la columna original de Salary si estás usando la log\n",
    "# y elimina la propia 'Salary_log' como feature si la usas de target\n",
    "feature_cols = df.drop(columns=[\"Salary\", \"Salary_log\"], errors=\"ignore\").columns\n",
    "X = df[feature_cols]"
   ]
  },
  {
   "cell_type": "code",
   "execution_count": 49,
   "metadata": {},
   "outputs": [],
   "source": [
    "# 1. Train-test split\n",
    "X_train, X_test, y_train, y_test = train_test_split(\n",
    "    X, y, test_size=0.2, random_state=42\n",
    ")"
   ]
  },
  {
   "cell_type": "code",
   "execution_count": 50,
   "metadata": {},
   "outputs": [
    {
     "name": "stdout",
     "output_type": "stream",
     "text": [
      "=== Baseline (DummyRegressor) ===\n",
      "MAE: 0.4524474825951692\n",
      "MSE: 0.27525537303634984\n",
      "R2: -0.004641140426039803\n"
     ]
    }
   ],
   "source": [
    "# 2. Modelo Baseline\n",
    "baseline = DummyRegressor(strategy='mean')\n",
    "baseline.fit(X_train, y_train)\n",
    "y_pred_base = baseline.predict(X_test)\n",
    "\n",
    "print(\"=== Baseline (DummyRegressor) ===\")\n",
    "print(\"MAE:\", mean_absolute_error(y_test, y_pred_base))\n",
    "print(\"MSE:\", mean_squared_error(y_test, y_pred_base))\n",
    "print(\"R2:\", r2_score(y_test, y_pred_base))"
   ]
  },
  {
   "cell_type": "code",
   "execution_count": 52,
   "metadata": {},
   "outputs": [
    {
     "name": "stdout",
     "output_type": "stream",
     "text": [
      "\n",
      "=== Linear Regression ===\n",
      "MAE: 0.1420740681548171\n",
      "MSE: 0.032986879177174064\n",
      "R2: 0.8796028010276997\n"
     ]
    }
   ],
   "source": [
    "# 3. Regresión Lineal\n",
    "lr = LinearRegression()\n",
    "lr.fit(X_train, y_train)\n",
    "y_pred_lr = lr.predict(X_test)\n",
    "\n",
    "print(\"\\n=== Linear Regression ===\")\n",
    "print(\"MAE:\", mean_absolute_error(y_test, y_pred_lr))\n",
    "print(\"MSE:\", mean_squared_error(y_test, y_pred_lr))\n",
    "print(\"R2:\", r2_score(y_test, y_pred_lr))"
   ]
  },
  {
   "cell_type": "code",
   "execution_count": 53,
   "metadata": {},
   "outputs": [
    {
     "name": "stdout",
     "output_type": "stream",
     "text": [
      "\n",
      "=== RandomForest ===\n",
      "MAE: 0.10597302791226011\n",
      "MSE: 0.02232255363699167\n",
      "R2: 0.9185260018879734\n"
     ]
    }
   ],
   "source": [
    "# 4. RandomForest\n",
    "rf = RandomForestRegressor(n_estimators=100, random_state=42)\n",
    "rf.fit(X_train, y_train)\n",
    "y_pred_rf = rf.predict(X_test)\n",
    "\n",
    "print(\"\\n=== RandomForest ===\")\n",
    "print(\"MAE:\", mean_absolute_error(y_test, y_pred_rf))\n",
    "print(\"MSE:\", mean_squared_error(y_test, y_pred_rf))\n",
    "print(\"R2:\", r2_score(y_test, y_pred_rf))"
   ]
  }
 ],
 "metadata": {
  "kernelspec": {
   "display_name": "predictive_salary_model-EQFagWwt",
   "language": "python",
   "name": "python3"
  },
  "language_info": {
   "codemirror_mode": {
    "name": "ipython",
    "version": 3
   },
   "file_extension": ".py",
   "mimetype": "text/x-python",
   "name": "python",
   "nbconvert_exporter": "python",
   "pygments_lexer": "ipython3",
   "version": "3.13.0"
  }
 },
 "nbformat": 4,
 "nbformat_minor": 2
}
