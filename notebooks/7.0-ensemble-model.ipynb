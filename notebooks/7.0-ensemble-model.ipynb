{
 "cells": [
  {
   "cell_type": "markdown",
   "metadata": {},
   "source": [
    "# # Table of Contents\n",
    "# 1. [Importing Libraries](#import-libraries)\n",
    "# 2. [Ensemble Model](#ensemble-model)"
   ]
  },
  {
   "cell_type": "markdown",
   "metadata": {},
   "source": [
    "# # Importing Libraries <a id=\"import-libraries\"></a>"
   ]
  },
  {
   "cell_type": "code",
   "execution_count": 1,
   "metadata": {},
   "outputs": [],
   "source": [
    "import pandas as pd\n",
    "\n",
    "from sklearn.ensemble import VotingRegressor, RandomForestRegressor\n",
    "from sklearn.linear_model import LinearRegression\n",
    "from sklearn.model_selection import train_test_split\n",
    "from sklearn.metrics import mean_absolute_error, r2_score\n",
    "\n",
    "from xgboost import XGBRegressor"
   ]
  },
  {
   "cell_type": "code",
   "execution_count": 2,
   "metadata": {},
   "outputs": [],
   "source": [
    "df = pd.read_csv('C:/Users/Usuario/Documents/prueba_pwc/predictive_salary_model/data/processed/dataset_features.csv')"
   ]
  },
  {
   "cell_type": "markdown",
   "metadata": {},
   "source": [
    "# # Ensemble Model <a id=\"ensemble-model\"></a>"
   ]
  },
  {
   "cell_type": "code",
   "execution_count": 3,
   "metadata": {},
   "outputs": [],
   "source": [
    "def voting_ensemble_salary(df: pd.DataFrame) -> None:\n",
    "\n",
    "    X = df.drop(columns=[\"Salary\", \"Salary_log\"], errors=\"ignore\")\n",
    "    y = df[\"Salary\"]\n",
    "\n",
    "    X_train, X_test, y_train, y_test = train_test_split(X, y, random_state=42)\n",
    "\n",
    "    rf = RandomForestRegressor(random_state=42)\n",
    "    xgb = XGBRegressor(random_state=42)\n",
    "    lr = LinearRegression()\n",
    "\n",
    "    ensemble = VotingRegressor([('rf', rf), ('xgb', xgb), ('lr', lr)])\n",
    "    ensemble.fit(X_train, y_train)\n",
    "\n",
    "    preds = ensemble.predict(X_test)\n",
    "    mae = mean_absolute_error(y_test, preds)\n",
    "    r2  = r2_score(y_test, preds)\n",
    "\n",
    "    print(f\"VotingRegressor SALARY -> MAE: {mae:.2f}, R²: {r2:.2f}\")"
   ]
  },
  {
   "cell_type": "code",
   "execution_count": 4,
   "metadata": {},
   "outputs": [
    {
     "name": "stdout",
     "output_type": "stream",
     "text": [
      "VotingRegressor SALARY -> MAE: 10430.45, R²: 0.90\n"
     ]
    }
   ],
   "source": [
    "voting_ensemble_salary(df)"
   ]
  },
  {
   "cell_type": "markdown",
   "metadata": {},
   "source": [
    "* A VotingRegressor (RandomForest + XGBoost + LinearRegression) reached MAE ~$10.43k and R²=0.90.\n",
    "* Conclusion: While this ensemble slightly improves or matches a well-tuned RandomForest, it does not dramatically surpass it. It does, however, offer greater robustness by combining different model perspectives."
   ]
  }
 ],
 "metadata": {
  "kernelspec": {
   "display_name": "predictive_salary_model-EQFagWwt",
   "language": "python",
   "name": "python3"
  },
  "language_info": {
   "codemirror_mode": {
    "name": "ipython",
    "version": 3
   },
   "file_extension": ".py",
   "mimetype": "text/x-python",
   "name": "python",
   "nbconvert_exporter": "python",
   "pygments_lexer": "ipython3",
   "version": "3.13.0"
  }
 },
 "nbformat": 4,
 "nbformat_minor": 2
}
