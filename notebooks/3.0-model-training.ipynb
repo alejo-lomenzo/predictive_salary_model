{
 "cells": [
  {
   "cell_type": "markdown",
   "metadata": {},
   "source": [
    "# # Table of Contents\n",
    "# \n",
    "# 1. [Importación de Librerías](#import-librerias)\n",
    "# 2. [Preparación de Datos](#preparacion-de-datos)\n",
    "# 3. [Entrenamiento de Modelos](#entrenamiento-de-modelos)\n",
    "# 4. [Intervalos de Confianza](#intervalos-de-confianza)\n",
    "# 5. [Mejora de la Inestabilidad de MSE](#mejora-mse)\n",
    "# 6. [Gráfico Comparativo](#grafico-comparativo)"
   ]
  },
  {
   "cell_type": "markdown",
   "metadata": {},
   "source": [
    "# # Importación de Librerías <a id=\"import-librerias\"></a>"
   ]
  },
  {
   "cell_type": "code",
   "execution_count": 36,
   "metadata": {},
   "outputs": [],
   "source": [
    "import os\n",
    "import matplotlib.pyplot as plt\n",
    "import pandas as pd\n",
    "import numpy as np\n",
    "import scipy.stats as st\n",
    "\n",
    "from sklearn.dummy import DummyRegressor\n",
    "from sklearn.linear_model import LinearRegression\n",
    "from sklearn.ensemble import RandomForestRegressor\n",
    "from sklearn.model_selection import train_test_split, cross_val_score, RepeatedKFold\n",
    "from sklearn.metrics import mean_squared_error, mean_absolute_error, r2_score\n",
    "\n",
    "from project_pwc.config import FIGURES_DIR"
   ]
  },
  {
   "cell_type": "markdown",
   "metadata": {},
   "source": [
    "# # Preparación de Datos <a id=\"preparacion-de-datos\"></a>"
   ]
  },
  {
   "cell_type": "code",
   "execution_count": 2,
   "metadata": {},
   "outputs": [],
   "source": [
    "df = pd.read_csv('C:/Users/Usuario/Documents/prueba_pwc/predictive_salary_model/data/interim/dataset_cleaned.csv')"
   ]
  },
  {
   "cell_type": "code",
   "execution_count": 3,
   "metadata": {},
   "outputs": [],
   "source": [
    "df[\"Salary_log\"] = np.log(df[\"Salary\"])"
   ]
  },
  {
   "cell_type": "code",
   "execution_count": 4,
   "metadata": {},
   "outputs": [],
   "source": [
    "df = pd.get_dummies(df, columns=[\"Gender\"], prefix=\"gender\", drop_first=False)"
   ]
  },
  {
   "cell_type": "code",
   "execution_count": 5,
   "metadata": {},
   "outputs": [],
   "source": [
    "edu_map = {\n",
    "    \"Missing\": 0,\n",
    "    \"Bachelor's\": 1,\n",
    "    \"Master's\": 2,\n",
    "    \"PhD\": 3\n",
    "}\n",
    "\n",
    "df[\"Education_Level_ordinal\"] = df[\"Education Level\"].map(edu_map)"
   ]
  },
  {
   "cell_type": "code",
   "execution_count": 6,
   "metadata": {},
   "outputs": [],
   "source": [
    "bins = [0, 2, 7, 15, float('inf')]\n",
    "labels = [\"junior\", \"semi-senior\", \"senior\", \"expert\"]\n",
    "\n",
    "df[\"experience_level\"] = pd.cut(\n",
    "    df[\"Years of Experience\"],\n",
    "    bins=bins,\n",
    "    labels=labels,\n",
    "    include_lowest=True \n",
    ")"
   ]
  },
  {
   "cell_type": "code",
   "execution_count": 7,
   "metadata": {},
   "outputs": [],
   "source": [
    "exp_map = {\n",
    "    \"junior\": 0,\n",
    "    \"semi-senior\": 1,\n",
    "    \"senior\": 2,\n",
    "    \"expert\": 3\n",
    "}\n",
    "\n",
    "df[\"experience_level_ordinal\"] = df[\"experience_level\"].map(exp_map)\n",
    "df.drop(columns=[\"experience_level\"], inplace=True)"
   ]
  },
  {
   "cell_type": "code",
   "execution_count": 8,
   "metadata": {},
   "outputs": [],
   "source": [
    "df.drop(columns=[\"id\", \"Description\", \"Job Title\", \"Age\", \"Education Level\"], inplace=True)"
   ]
  },
  {
   "cell_type": "code",
   "execution_count": 9,
   "metadata": {},
   "outputs": [],
   "source": [
    "TARGET_COLUMN = \"Salary_log\" \n",
    "y = df[TARGET_COLUMN]\n",
    "\n",
    "feature_cols = df.drop(columns=[\"Salary\", \"Salary_log\"], errors=\"ignore\").columns\n",
    "X = df[feature_cols]"
   ]
  },
  {
   "cell_type": "markdown",
   "metadata": {},
   "source": [
    "# # Entrenamiento de Modelos <a id=\"entrenamiento-de-modelos\"></a>"
   ]
  },
  {
   "cell_type": "code",
   "execution_count": 10,
   "metadata": {},
   "outputs": [],
   "source": [
    "X_train, X_test, y_train, y_test = train_test_split(\n",
    "    X, y, test_size=0.2, random_state=42\n",
    ")"
   ]
  },
  {
   "cell_type": "code",
   "execution_count": 32,
   "metadata": {},
   "outputs": [
    {
     "name": "stdout",
     "output_type": "stream",
     "text": [
      "Dimensión X_train: (298, 6)\n",
      "Dimensión X_test : (75, 6)\n"
     ]
    }
   ],
   "source": [
    "print(\"Dimensión X_train:\", X_train.shape)\n",
    "print(\"Dimensión X_test :\", X_test.shape)"
   ]
  },
  {
   "cell_type": "code",
   "execution_count": 11,
   "metadata": {},
   "outputs": [
    {
     "name": "stdout",
     "output_type": "stream",
     "text": [
      "=== Baseline (DummyRegressor) ===\n",
      "MAE: 0.4524474825951692\n",
      "MSE: 0.27525537303634984\n",
      "R2: -0.004641140426039803\n"
     ]
    }
   ],
   "source": [
    "baseline = DummyRegressor(strategy='mean')\n",
    "baseline.fit(X_train, y_train)\n",
    "y_pred_base = baseline.predict(X_test)\n",
    "\n",
    "print(\"=== Baseline (DummyRegressor) ===\")\n",
    "print(\"MAE:\", mean_absolute_error(y_test, y_pred_base))\n",
    "print(\"MSE:\", mean_squared_error(y_test, y_pred_base))\n",
    "print(\"R2:\", r2_score(y_test, y_pred_base))"
   ]
  },
  {
   "cell_type": "code",
   "execution_count": 12,
   "metadata": {},
   "outputs": [
    {
     "name": "stdout",
     "output_type": "stream",
     "text": [
      "\n",
      "=== Linear Regression ===\n",
      "MAE: 0.1420740681548171\n",
      "MSE: 0.032986879177174064\n",
      "R2: 0.8796028010276997\n"
     ]
    }
   ],
   "source": [
    "lr = LinearRegression()\n",
    "lr.fit(X_train, y_train)\n",
    "y_pred_lr = lr.predict(X_test)\n",
    "\n",
    "print(\"\\n=== Linear Regression ===\")\n",
    "print(\"MAE:\", mean_absolute_error(y_test, y_pred_lr))\n",
    "print(\"MSE:\", mean_squared_error(y_test, y_pred_lr))\n",
    "print(\"R2:\", r2_score(y_test, y_pred_lr))"
   ]
  },
  {
   "cell_type": "code",
   "execution_count": null,
   "metadata": {},
   "outputs": [
    {
     "name": "stdout",
     "output_type": "stream",
     "text": [
      "\n",
      "=== RandomForest ===\n",
      "MAE: 0.10597302791226011\n",
      "MSE: 0.02232255363699167\n",
      "R2: 0.9185260018879734\n"
     ]
    }
   ],
   "source": [
    "rf = RandomForestRegressor(n_estimators=100, random_state=42)\n",
    "rf.fit(X_train, y_train)\n",
    "y_pred_rf = rf.predict(X_test)\n",
    "\n",
    "print(\"\\n=== RandomForest ===\")\n",
    "print(\"MAE:\", mean_absolute_error(y_test, y_pred_rf))\n",
    "print(\"MSE:\", mean_squared_error(y_test, y_pred_rf))\n",
    "print(\"R2:\", r2_score(y_test, y_pred_rf))"
   ]
  },
  {
   "cell_type": "markdown",
   "metadata": {},
   "source": [
    "# # Intervalos de Confianza <a id=\"intervalos-de-confianza\"></a>\n",
    "* Calculamos MAE, MSE y R² con cross-validation y sus intervalos de confianza."
   ]
  },
  {
   "cell_type": "code",
   "execution_count": 33,
   "metadata": {},
   "outputs": [],
   "source": [
    "def confidence_intervals_all(model, X, y, cv=5, confidence=0.95):\n",
    "\n",
    "    results = {}\n",
    "\n",
    "    metrics = {\n",
    "        \"MAE\": \"neg_mean_absolute_error\",\n",
    "        \"MSE\": \"neg_mean_squared_error\",\n",
    "        \"R2\":  \"r2\"\n",
    "    }\n",
    "\n",
    "    for metric_name, scoring_method in metrics.items():\n",
    "        scores = cross_val_score(model, X, y, scoring=scoring_method, cv=cv)\n",
    "    \n",
    "        if scoring_method.startswith('neg_'):\n",
    "            scores = -scores\n",
    "\n",
    "        mean_val = np.mean(scores)\n",
    "        std_val = np.std(scores, ddof=1)\n",
    "\n",
    "        n = len(scores)\n",
    "        alpha = 1 - confidence\n",
    "        t_crit = st.t.ppf(1 - alpha/2, df=n-1)\n",
    "        ci_lower = mean_val - t_crit * (std_val / np.sqrt(n))\n",
    "        ci_upper = mean_val + t_crit * (std_val / np.sqrt(n))\n",
    "\n",
    "        results[metric_name] = {\n",
    "            \"mean\": mean_val,\n",
    "            \"ci_lower\": ci_lower,\n",
    "            \"ci_upper\": ci_upper\n",
    "        }\n",
    "\n",
    "    return results"
   ]
  },
  {
   "cell_type": "code",
   "execution_count": 34,
   "metadata": {},
   "outputs": [
    {
     "name": "stdout",
     "output_type": "stream",
     "text": [
      "MAE (5-fold CV) = 0.150 (95% CI: [0.098, 0.202])\n",
      "MSE (5-fold CV) = 0.098 (95% CI: [-0.051, 0.247])\n",
      "R2 (5-fold CV) = 0.772 (95% CI: [0.580, 0.964])\n"
     ]
    }
   ],
   "source": [
    "model = RandomForestRegressor(random_state=42)\n",
    "all_metrics = confidence_intervals_all(model, X, y, cv=5, confidence=0.95)\n",
    "\n",
    "for m in [\"MAE\", \"MSE\", \"R2\"]:\n",
    "    mean_val = all_metrics[m][\"mean\"]\n",
    "    lower = all_metrics[m][\"ci_lower\"]\n",
    "    upper = all_metrics[m][\"ci_upper\"]\n",
    "    print(f\"{m} (5-fold CV) = {mean_val:.3f} (95% CI: [{lower:.3f}, {upper:.3f}])\")"
   ]
  },
  {
   "cell_type": "markdown",
   "metadata": {},
   "source": [
    "# # Mejora de la Inestabilidad de MSE <a id=\"mejora-mse\"></a>"
   ]
  },
  {
   "cell_type": "code",
   "execution_count": 35,
   "metadata": {},
   "outputs": [
    {
     "name": "stdout",
     "output_type": "stream",
     "text": [
      "RepeatedKFold MSE: 0.09061479729104928 +/- 0.10864175365209515\n"
     ]
    }
   ],
   "source": [
    "rkf = RepeatedKFold(n_splits=5, n_repeats=3, random_state=42)\n",
    "scores_mse = cross_val_score(\n",
    "    RandomForestRegressor(random_state=42),\n",
    "    X, y, scoring='neg_mean_squared_error', cv=rkf\n",
    ")\n",
    "scores_mse = -scores_mse\n",
    "print(\"RepeatedKFold MSE:\", np.mean(scores_mse), \"+/-\", np.std(scores_mse))"
   ]
  },
  {
   "cell_type": "markdown",
   "metadata": {},
   "source": [
    "# # Gráfico Comparativo <a id=\"grafico-comparativo\"></a>\n",
    "* Comparamos la metricas de los modelos dummy, linear y forest de forma visual. Estas métricas fijas son de ejemplo a partir de los resultados obtenidos."
   ]
  },
  {
   "cell_type": "code",
   "execution_count": 29,
   "metadata": {},
   "outputs": [],
   "source": [
    "model_names = [\"Dummy\", \"Linear\", \"Forest\"]\n",
    "mae_values = [0.45, 0.14, 0.10]\n",
    "mse_values = [0.28, 0.03, 0.02]\n",
    "r2_values  = [-0.00, 0.88, 0.92]"
   ]
  },
  {
   "cell_type": "code",
   "execution_count": 30,
   "metadata": {},
   "outputs": [],
   "source": [
    "def save_bar_chart(values, title, ylabel, filename):\n",
    "    x = np.arange(len(values))\n",
    "    plt.figure(figsize=(6, 4))\n",
    "    plt.bar(x, values, color=\"teal\")\n",
    "    plt.xticks(x, model_names)\n",
    "    plt.title(title)\n",
    "    plt.ylabel(ylabel)\n",
    "    plt.tight_layout()\n",
    "\n",
    "    output_path = os.path.join(FIGURES_DIR, filename)\n",
    "    plt.savefig(output_path)\n",
    "    print(f\"Guardado {filename} en {output_path}\")"
   ]
  },
  {
   "cell_type": "code",
   "execution_count": 31,
   "metadata": {},
   "outputs": [
    {
     "name": "stdout",
     "output_type": "stream",
     "text": [
      "Guardado compare_mae.png en C:\\Users\\Usuario\\Documents\\prueba_pwc\\predictive_salary_model\\reports\\figures\\compare_mae.png\n",
      "Guardado compare_mse.png en C:\\Users\\Usuario\\Documents\\prueba_pwc\\predictive_salary_model\\reports\\figures\\compare_mse.png\n",
      "Guardado compare_r2.png en C:\\Users\\Usuario\\Documents\\prueba_pwc\\predictive_salary_model\\reports\\figures\\compare_r2.png\n"
     ]
    },
    {
     "data": {
      "image/png": "[encoded data removed]",
      "text/plain": [
       "<Figure size 600x400 with 1 Axes>"
      ]
     },
     "metadata": {},
     "output_type": "display_data"
    },
    {
     "data": {
      "image/png": "[encoded data removed]",
      "text/plain": [
       "<Figure size 600x400 with 1 Axes>"
      ]
     },
     "metadata": {},
     "output_type": "display_data"
    },
    {
     "data": {
      "image/png": "[encoded data removed]",
      "text/plain": [
       "<Figure size 600x400 with 1 Axes>"
      ]
     },
     "metadata": {},
     "output_type": "display_data"
    }
   ],
   "source": [
    "save_bar_chart(mae_values, \"Comparación de MAE\", \"MAE\", \"compare_mae.png\")\n",
    "save_bar_chart(mse_values, \"Comparación de MSE\", \"MSE\", \"compare_mse.png\")\n",
    "save_bar_chart(r2_values,  \"Comparación de R²\", \"R²\",  \"compare_r2.png\")"
   ]
  }
 ],
 "metadata": {
  "kernelspec": {
   "display_name": "predictive_salary_model-EQFagWwt",
   "language": "python",
   "name": "python3"
  },
  "language_info": {
   "codemirror_mode": {
    "name": "ipython",
    "version": 3
   },
   "file_extension": ".py",
   "mimetype": "text/x-python",
   "name": "python",
   "nbconvert_exporter": "python",
   "pygments_lexer": "ipython3",
   "version": "3.13.0"
  }
 },
 "nbformat": 4,
 "nbformat_minor": 2
}
