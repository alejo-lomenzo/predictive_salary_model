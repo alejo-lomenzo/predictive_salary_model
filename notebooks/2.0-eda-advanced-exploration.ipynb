{
 "cells": [
  {
   "cell_type": "markdown",
   "metadata": {},
   "source": [
    "# # Table of Contents\n",
    "# 1. [Importación de Librerías](#import-librerias)\n",
    "# 2. [Análisis Exploratorio Avanzado (EDA)](#eda-avanzado)\n",
    "# 3. [Correlaciones, Boxplots e Histogramas](#plots)\n",
    "# 4. [Categorical vs. Salary](#cat-vs-salary)\n",
    "# 5. [Scatter Experience vs. Age vs. Salary](#scatter)"
   ]
  },
  {
   "cell_type": "markdown",
   "metadata": {},
   "source": [
    "# # Importación de Librerías <a id=\"import-librerias\"></a>"
   ]
  },
  {
   "cell_type": "code",
   "execution_count": 17,
   "metadata": {},
   "outputs": [],
   "source": [
    "import os\n",
    "import pandas as pd\n",
    "import seaborn as sns\n",
    "import matplotlib.pyplot as plt\n",
    "from typing import Optional, List\n",
    "from project_pwc.config import FIGURES_DIR\n",
    "\n",
    "sns.set_style(\"whitegrid\")\n",
    "plt.rcParams[\"figure.figsize\"] = (10, 6)\n",
    "num_cols = [\"Age\", \"Years of Experience\", \"Salary\"]"
   ]
  },
  {
   "cell_type": "markdown",
   "metadata": {},
   "source": [
    "# # Análisis Exploratorio Avanzado (EDA) <a id=\"eda-avanzado\"></a>"
   ]
  },
  {
   "cell_type": "code",
   "execution_count": 4,
   "metadata": {},
   "outputs": [],
   "source": [
    "df_clean = pd.read_csv('C:/Users/Usuario/Documents/prueba_pwc/predictive_salary_model/data/interim/dataset_cleaned.csv')"
   ]
  },
  {
   "cell_type": "code",
   "execution_count": 3,
   "metadata": {},
   "outputs": [
    {
     "name": "stdout",
     "output_type": "stream",
     "text": [
      "<class 'pandas.core.frame.DataFrame'>\n",
      "RangeIndex: 373 entries, 0 to 372\n",
      "Data columns (total 8 columns):\n",
      " #   Column               Non-Null Count  Dtype  \n",
      "---  ------               --------------  -----  \n",
      " 0   id                   373 non-null    int64  \n",
      " 1   Age                  373 non-null    int64  \n",
      " 2   Gender               373 non-null    object \n",
      " 3   Education Level      373 non-null    object \n",
      " 4   Job Title            373 non-null    object \n",
      " 5   Years of Experience  373 non-null    int64  \n",
      " 6   Salary               373 non-null    float64\n",
      " 7   Description          373 non-null    object \n",
      "dtypes: float64(1), int64(3), object(4)\n",
      "memory usage: 23.4+ KB\n"
     ]
    }
   ],
   "source": [
    "df_clean.info()"
   ]
  },
  {
   "cell_type": "markdown",
   "metadata": {},
   "source": [
    "# # Correlaciones, Boxplots e Histogramas <a id=\"plots\"></a>"
   ]
  },
  {
   "cell_type": "code",
   "execution_count": 31,
   "metadata": {},
   "outputs": [],
   "source": [
    "def plot_correlation_heatmap(df: pd.DataFrame, numerical_cols: List[str], filename: str = \"correlation_heatmap.png\") -> None:\n",
    "    \"\"\"\n",
    "    Genera y muestra un heatmap de correlaciones entre columnas numéricas,\n",
    "    guardando la figura en reports/figures/.\n",
    "    \"\"\"\n",
    "    corr_matrix = df[numerical_cols].corr()\n",
    "\n",
    "    plt.figure(figsize=(8, 6))\n",
    "    sns.heatmap(corr_matrix, annot=True, cmap=\"coolwarm\", fmt=\".2f\")\n",
    "    plt.title(\"Correlation Heatmap\")\n",
    "    \n",
    "    output_path = os.path.join(FIGURES_DIR, filename)\n",
    "    plt.savefig(output_path)\n",
    "    print(f\"Heatmap guardado en: {output_path}\")\n",
    "\n",
    "plot_correlation_heatmap(df_clean, num_cols)"
   ]
  },
  {
   "cell_type": "markdown",
   "metadata": {},
   "source": [
    "Descripción\n",
    "\n",
    "Se muestra la correlación entre Age, Years of Experience y Salary.\n",
    "Observamos que Age y Years of Experience tienen una correlación muy alta (~0.98), y ambas se relacionan fuertemente con Salary (~0.92 y ~0.93, respectivamente).\n",
    "Conclusiones\n",
    "\n",
    "Este nivel de correlación sugiere multicolinealidad: en un modelo lineal, podría ocasionar inestabilidad en los coeficientes.\n",
    "Las tres variables son muy relevantes para explicar la variación de Salary, pero tal vez sea suficiente con una sola de ellas (Age o Experience) en modelos lineales.\n",
    "En algoritmos de árboles (RandomForest, XGBoost) esta redundancia impacta menos, pero es bueno tenerlo en mente."
   ]
  },
  {
   "cell_type": "code",
   "execution_count": null,
   "metadata": {},
   "outputs": [],
   "source": [
    "def plot_boxplots(df: pd.DataFrame, numerical_cols: List[str], prefix: str = \"boxplot\") -> None:\n",
    "\n",
    "    for col in numerical_cols:\n",
    "        plt.figure(figsize=(5, 4))\n",
    "        sns.boxplot(x=df[col])\n",
    "        plt.title(f\"Boxplot for {col}\")\n",
    "        \n",
    "        filename = f\"{prefix}_{col}.png\"\n",
    "        output_path = os.path.join(FIGURES_DIR, filename)\n",
    "        plt.savefig(output_path)\n",
    "        print(f\"Boxplot de {col} guardado en: {output_path}\")\n",
    "\n",
    "plot_boxplots(df_clean, num_cols)"
   ]
  },
  {
   "cell_type": "markdown",
   "metadata": {},
   "source": [
    "Descripción\n",
    "\n",
    "Cada boxplot revela la distribución y posibles outliers:\n",
    "Age: Rango 23–53, mediana cerca de 36, sin outliers extremos.\n",
    "Years of Experience: Rango 0–25, picos en 5–10 años y casos puntuales de 20+ años.\n",
    "Salary: Rango ~350–250,000, con una mediana ~95,000 y valores altos que superan los 200,000.\n",
    "Conclusiones\n",
    "\n",
    "Age no presenta valores anómalos.\n",
    "Experience puede tener saltos marcados (nuevos vs. muy experimentados).\n",
    "Salary está sesgado a la derecha; hay pocos valores muy altos que podrían considerarse outliers en modelos lineales."
   ]
  },
  {
   "cell_type": "code",
   "execution_count": null,
   "metadata": {},
   "outputs": [],
   "source": [
    "def plot_histograms(df: pd.DataFrame, numerical_cols: List[str], prefix: str = \"histogram\") -> None:\n",
    "\n",
    "    for col in numerical_cols:\n",
    "        plt.figure(figsize=(5, 4))\n",
    "        sns.histplot(df[col], kde=True, color=\"teal\", bins=20)\n",
    "        plt.title(f\"Distribution of {col}\")\n",
    "\n",
    "        filename = f\"{prefix}_{col}.png\"\n",
    "        output_path = os.path.join(FIGURES_DIR, filename)\n",
    "        plt.savefig(output_path)\n",
    "        print(f\"Histograma de {col} guardado en: {output_path}\")\n",
    "\n",
    "plot_histograms(df_clean, num_cols)"
   ]
  },
  {
   "cell_type": "markdown",
   "metadata": {},
   "source": [
    "Descripción\n",
    "\n",
    "Age: Aproximación casi normal, con mayor densidad entre 30–40 años.\n",
    "Years of Experience: Distribución más irregular; un pico en los primeros años (0–5) y otro alrededor de ~15.\n",
    "Salary: Marcado sesgo a la derecha (long tail); el grupo principal se ubica entre 50,000 y 120,000, pero también hay salarios de hasta 250,000.\n",
    "Conclusiones\n",
    "\n",
    "Con una distribución tan asimétrica en Salary, podrías aplicar una transformación log para métodos como Regresión Lineal.\n",
    "Se confirma la idea de crear “bins” para Experience (junior, semi-senior, senior, etc.) dada su distribución no uniforme."
   ]
  },
  {
   "cell_type": "markdown",
   "metadata": {},
   "source": [
    "# # Categorical vs. Salary <a id=\"cat-vs-salary\"></a>"
   ]
  },
  {
   "cell_type": "code",
   "execution_count": null,
   "metadata": {},
   "outputs": [],
   "source": [
    "def analyze_categorical_vs_salary(df: pd.DataFrame, cat_col: str, salary_col: str = \"Salary\") -> None:\n",
    "\n",
    "    mean_salary_by_cat = df.groupby(cat_col)[salary_col].mean().sort_values(ascending=False)\n",
    "    print(f\"=== Mean {salary_col} by {cat_col} ===\\n{mean_salary_by_cat}\\n\")\n",
    "\n",
    "    plt.figure(figsize=(8, 4))\n",
    "    sns.violinplot(data=df, x=cat_col, y=salary_col, palette=\"viridis\")\n",
    "    plt.title(f\"{salary_col} distribution by {cat_col}\")\n",
    "    \n",
    "    output_filename = f\"violin_{cat_col}.png\"\n",
    "    output_path = os.path.join(FIGURES_DIR, output_filename)\n",
    "    plt.savefig(output_path)\n",
    "    print(f\"Violinplot guardado en: {output_path}\")\n",
    "\n",
    "analyze_categorical_vs_salary(df_clean, \"Education Level\")"
   ]
  },
  {
   "cell_type": "markdown",
   "metadata": {},
   "source": [
    "* Gender: El violinplot sugiere diferencias en la mediana y los valores extremos de salario (male vs. female vs. missing).\n",
    "* Education Level: El salario tiende a ser mayor conforme aumenta la formación académica (PhD > Master’s > Bachelor’s), aunque con solapamientos entre categorías.\n",
    "\n",
    "Implicaciones:\n",
    "Ambas variables categóricas (Gender, Education Level) podrían tener poder predictivo.\n",
    "El tratamiento de “Missing” en ambos casos (género o nivel educativo) es importante; conviene mantenerlo como una categoría adicional para no perder registros.\n",
    "Se recomienda One-Hot Encoding u otras estrategias de codificación que reflejen el nivel formativo y el género en el modelado."
   ]
  },
  {
   "cell_type": "markdown",
   "metadata": {},
   "source": [
    "# # Scatter Experience vs. Age vs. Salary <a id=\"scatter\"></a>"
   ]
  },
  {
   "cell_type": "code",
   "execution_count": null,
   "metadata": {},
   "outputs": [],
   "source": [
    "def scatter_experience_age_salary(df: pd.DataFrame,\n",
    "                                  x_col: str = \"Age\",\n",
    "                                  y_col: str = \"Years of Experience\",\n",
    "                                  hue_col: Optional[str] = \"Gender\",\n",
    "                                  size_col: Optional[str] = \"Salary\",\n",
    "                                  filename: str = \"scatter_experience_age_salary.png\") -> None:\n",
    "\n",
    "    plt.figure(figsize=(8, 5))\n",
    "    sns.scatterplot(data=df, x=x_col, y=y_col, hue=hue_col, size=size_col, sizes=(20, 200), alpha=0.7)\n",
    "    plt.title(f\"{y_col} vs {x_col} (hue={hue_col}, size={size_col})\")\n",
    "    \n",
    "    output_path = os.path.join(FIGURES_DIR, filename)\n",
    "    plt.savefig(output_path)\n",
    "    print(f\"Scatterplot guardado en: {output_path}\")\n",
    "\n",
    "scatter_experience_age_salary(df_clean)"
   ]
  },
  {
   "cell_type": "markdown",
   "metadata": {},
   "source": [
    "Descripción\n",
    "\n",
    "Se aprecia una relación casi lineal: a mayor edad, mayor experiencia, lo que confirma la fuerte correlación numérica.\n",
    "Los puntos grandes (representando salarios altos) suelen estar en la zona de mayor experiencia y/o edad, aunque hay excepciones.\n",
    "El color sugiere que tanto hombres como mujeres se reparten a lo largo de toda la diagonal, con variaciones notables en el tamaño (Salary).\n",
    "Conclusiones\n",
    "\n",
    "Es un claro indicio de multicolinealidad entre edad y experiencia.\n",
    "Un alto Salary suele coincidir con un mayor rango de experiencia/edad, pero también hay casos medianos o altos en rangos intermedios.\n",
    "Podrías eliminar una de las dos variables en modelos lineales o crear una tercera (por ejemplo, Age - YearsExperience) si deseas capturar la idea de “edad de inicio profesional”."
   ]
  }
 ],
 "metadata": {
  "kernelspec": {
   "display_name": "predictive_salary_model-EQFagWwt",
   "language": "python",
   "name": "python3"
  },
  "language_info": {
   "codemirror_mode": {
    "name": "ipython",
    "version": 3
   },
   "file_extension": ".py",
   "mimetype": "text/x-python",
   "name": "python",
   "nbconvert_exporter": "python",
   "pygments_lexer": "ipython3",
   "version": "3.13.0"
  }
 },
 "nbformat": 4,
 "nbformat_minor": 2
}
