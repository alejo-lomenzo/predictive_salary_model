{
 "cells": [
  {
   "cell_type": "markdown",
   "metadata": {},
   "source": [
    "# # Table of Contents\n",
    "# 1. [Importing Libraries](#import-libraries)\n",
    "# 2. [Hyperparam Tuning Grid](#hyperparam-tuning-grid)"
   ]
  },
  {
   "cell_type": "markdown",
   "metadata": {},
   "source": [
    "# # Importing Libraries <a id=\"import-libraries\"></a>"
   ]
  },
  {
   "cell_type": "code",
   "execution_count": 1,
   "metadata": {},
   "outputs": [],
   "source": [
    "import pandas as pd\n",
    "\n",
    "from sklearn.model_selection import train_test_split, GridSearchCV\n",
    "from sklearn.ensemble import RandomForestRegressor\n",
    "from sklearn.metrics import mean_absolute_error, r2_score\n",
    "\n",
    "from loguru import logger"
   ]
  },
  {
   "cell_type": "code",
   "execution_count": 2,
   "metadata": {},
   "outputs": [],
   "source": [
    "df = pd.read_csv('C:/Users/Usuario/Documents/prueba_pwc/predictive_salary_model/data/processed/dataset_features.csv')"
   ]
  },
  {
   "cell_type": "markdown",
   "metadata": {},
   "source": [
    "# # Hyperparam Tuning Grid <a id=\"hyperparam-tuning-grid\"></a>"
   ]
  },
  {
   "cell_type": "code",
   "execution_count": 4,
   "metadata": {},
   "outputs": [
    {
     "name": "stderr",
     "output_type": "stream",
     "text": [
      "\u001b[32m2025-01-19 11:37:48.973\u001b[0m | \u001b[1mINFO    \u001b[0m | \u001b[36m__main__\u001b[0m:\u001b[36mhyperparam_tuning_salary\u001b[0m:\u001b[36m25\u001b[0m - \u001b[1mIniciando GridSearchCV para RandomForest (Salary).\u001b[0m\n"
     ]
    },
    {
     "name": "stdout",
     "output_type": "stream",
     "text": [
      "Fitting 5 folds for each of 18 candidates, totalling 90 fits\n"
     ]
    },
    {
     "name": "stderr",
     "output_type": "stream",
     "text": [
      "\u001b[32m2025-01-19 11:37:51.519\u001b[0m | \u001b[1mINFO    \u001b[0m | \u001b[36m__main__\u001b[0m:\u001b[36mhyperparam_tuning_salary\u001b[0m:\u001b[36m30\u001b[0m - \u001b[1mMejores parámetros: {'max_depth': None, 'min_samples_split': 5, 'n_estimators': 200}\u001b[0m\n",
      "\u001b[32m2025-01-19 11:37:51.520\u001b[0m | \u001b[1mINFO    \u001b[0m | \u001b[36m__main__\u001b[0m:\u001b[36mhyperparam_tuning_salary\u001b[0m:\u001b[36m31\u001b[0m - \u001b[1mMejor score (neg MAE): -10437.788967735862\u001b[0m\n",
      "\u001b[32m2025-01-19 11:37:51.528\u001b[0m | \u001b[1mINFO    \u001b[0m | \u001b[36m__main__\u001b[0m:\u001b[36mhyperparam_tuning_salary\u001b[0m:\u001b[36m37\u001b[0m - \u001b[1mEn test, MAE: 10570.46, R²: 0.88\u001b[0m\n"
     ]
    }
   ],
   "source": [
    "def hyperparam_tuning_salary(df: pd.DataFrame) -> None:\n",
    "\n",
    "    X = df.drop(columns=[\"Salary\", \"Salary_log\"], errors=\"ignore\")\n",
    "    y = df[\"Salary\"]\n",
    "\n",
    "    X_train, X_test, y_train, y_test = train_test_split(X, y, test_size=0.2, random_state=42)\n",
    "    \n",
    "    rf = RandomForestRegressor(random_state=42)\n",
    "    \n",
    "    param_grid = {\n",
    "        \"n_estimators\": [50, 100, 200],\n",
    "        \"max_depth\": [None, 10, 20],\n",
    "        \"min_samples_split\": [2, 5]\n",
    "    }\n",
    "\n",
    "    grid_search = GridSearchCV(\n",
    "        estimator=rf,\n",
    "        param_grid=param_grid,\n",
    "        scoring=\"neg_mean_absolute_error\",\n",
    "        cv=5,\n",
    "        n_jobs=-1,\n",
    "        verbose=2\n",
    "    )\n",
    "\n",
    "    logger.info(\"Iniciando GridSearchCV para RandomForest (Salary).\")\n",
    "    grid_search.fit(X_train, y_train)\n",
    "\n",
    "    best_params = grid_search.best_params_\n",
    "    best_score = grid_search.best_score_\n",
    "    logger.info(f\"Mejores parámetros: {best_params}\")\n",
    "    logger.info(f\"Mejor score (neg MAE): {best_score}\")\n",
    "\n",
    "    best_model = grid_search.best_estimator_\n",
    "    y_pred = best_model.predict(X_test)\n",
    "    mae = mean_absolute_error(y_test, y_pred)\n",
    "    r2  = r2_score(y_test, y_pred)\n",
    "    logger.info(f\"En test, MAE: {mae:.2f}, R²: {r2:.2f}\")\n",
    "\n",
    "\n",
    "hyperparam_tuning_salary(df)"
   ]
  },
  {
   "cell_type": "markdown",
   "metadata": {},
   "source": [
    "* GridSearchCV identified {'max_depth': None, 'min_samples_split': 5, 'n_estimators': 200} as the best parameters for RandomForest (Salary), with MAE ~$10.57k and R²=0.88 on the test set.\n",
    "* Conclusion: GridSearchCV significantly improves performance over default settings, achieving a stable error around ~$10.5k."
   ]
  }
 ],
 "metadata": {
  "kernelspec": {
   "display_name": "predictive_salary_model-EQFagWwt",
   "language": "python",
   "name": "python3"
  },
  "language_info": {
   "codemirror_mode": {
    "name": "ipython",
    "version": 3
   },
   "file_extension": ".py",
   "mimetype": "text/x-python",
   "name": "python",
   "nbconvert_exporter": "python",
   "pygments_lexer": "ipython3",
   "version": "3.13.0"
  }
 },
 "nbformat": 4,
 "nbformat_minor": 2
}
