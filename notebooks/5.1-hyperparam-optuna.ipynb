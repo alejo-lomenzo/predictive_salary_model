{
 "cells": [
  {
   "cell_type": "markdown",
   "metadata": {},
   "source": [
    "# # Table of Contents\n",
    "# 1. [Importing Libraries](#import-libraries)\n",
    "# 2. [Hyperparam Tuning Optuna](#hyperparam-tuning-optuna)"
   ]
  },
  {
   "cell_type": "markdown",
   "metadata": {},
   "source": [
    "# # Importing Libraries <a id=\"import-libraries\"></a>"
   ]
  },
  {
   "cell_type": "code",
   "execution_count": 1,
   "metadata": {},
   "outputs": [
    {
     "name": "stderr",
     "output_type": "stream",
     "text": [
      "c:\\Users\\Usuario\\.virtualenvs\\predictive_salary_model-EQFagWwt\\Lib\\site-packages\\tqdm\\auto.py:21: TqdmWarning: IProgress not found. Please update jupyter and ipywidgets. See https://ipywidgets.readthedocs.io/en/stable/user_install.html\n",
      "  from .autonotebook import tqdm as notebook_tqdm\n"
     ]
    }
   ],
   "source": [
    "import optuna\n",
    "import pandas as pd\n",
    "import numpy as np\n",
    "\n",
    "from sklearn.ensemble import RandomForestRegressor\n",
    "from sklearn.model_selection import train_test_split, cross_val_score\n",
    "from sklearn.metrics import mean_absolute_error"
   ]
  },
  {
   "cell_type": "code",
   "execution_count": 3,
   "metadata": {},
   "outputs": [],
   "source": [
    "df = pd.read_csv('C:/Users/Usuario/Documents/prueba_pwc/predictive_salary_model/data/processed/dataset_features.csv')"
   ]
  },
  {
   "cell_type": "markdown",
   "metadata": {},
   "source": [
    "# # Hyperparam Tuning Optuna <a id=\"hyperparam-tuning-optuna\"></a>"
   ]
  },
  {
   "cell_type": "code",
   "execution_count": 25,
   "metadata": {},
   "outputs": [],
   "source": [
    "def objective(trial):\n",
    "\n",
    "    n_estimators = trial.suggest_int(\"n_estimators\", 50, 300, step=50)\n",
    "    max_depth = trial.suggest_categorical(\"max_depth\", [None, 10, 20, 30])\n",
    "    min_samples_split = trial.suggest_int(\"min_samples_split\", 2, 10)\n",
    "    min_samples_leaf = trial.suggest_int(\"min_samples_leaf\", 1, 10)\n",
    "\n",
    "    rf = RandomForestRegressor(\n",
    "        n_estimators=n_estimators,\n",
    "        max_depth=max_depth,\n",
    "        min_samples_split=min_samples_split,\n",
    "        min_samples_leaf=min_samples_leaf,\n",
    "        random_state=42,\n",
    "        n_jobs=-1\n",
    "    )\n",
    "\n",
    "    scores = cross_val_score(\n",
    "        rf,\n",
    "        X, \n",
    "        y,\n",
    "        scoring=\"neg_mean_absolute_error\",\n",
    "        cv=5,\n",
    "        n_jobs=-1\n",
    "    )\n",
    "    mae = -np.mean(scores) \n",
    "    return mae\n",
    "\n",
    "def run_optuna_search(df, n_trials=20):\n",
    "\n",
    "    global X, y \n",
    "  \n",
    "    X = df.drop(columns=[\"Salary\"], errors=\"ignore\")\n",
    "    y = df[\"Salary\"]\n",
    "\n",
    "    study = optuna.create_study(direction=\"minimize\") \n",
    "    study.optimize(objective, n_trials=n_trials, show_progress_bar=True)\n",
    "\n",
    "    print(\"Number of finished trials:\", len(study.trials))\n",
    "    print(\"Best trial:\")\n",
    "    trial = study.best_trial\n",
    "\n",
    "    print(f\"  Value (MAE): {trial.value:.2f}\")\n",
    "    print(\"  Params: \")\n",
    "    for key, value in trial.params.items():\n",
    "        print(f\"    {key}: {value}\")\n",
    "\n",
    "    best_params = trial.params\n",
    "    rf_best = RandomForestRegressor(\n",
    "        n_estimators=best_params[\"n_estimators\"],\n",
    "        max_depth=best_params[\"max_depth\"],\n",
    "        min_samples_split=best_params[\"min_samples_split\"],\n",
    "        random_state=42,\n",
    "        n_jobs=-1\n",
    "    )\n",
    "    \n",
    "    X_train, X_test, y_train, y_test = train_test_split(X, y, test_size=0.2, random_state=42)\n",
    "    rf_best.fit(X_train, y_train)\n",
    "    preds = rf_best.predict(X_test)\n",
    "    final_mae = mean_absolute_error(y_test, preds)\n",
    "    print(f\"MAE en test con hiperparámetros óptimos: {final_mae:.2f}\")"
   ]
  },
  {
   "cell_type": "code",
   "execution_count": 26,
   "metadata": {},
   "outputs": [
    {
     "name": "stderr",
     "output_type": "stream",
     "text": [
      "[I 2025-01-19 12:58:18,918] A new study created in memory with name: no-name-b72a1e7f-2e8d-41df-bf19-9d51a21acfb8\n",
      "Best trial: 0. Best value: 1359.75:   2%|▏         | 1/50 [00:00<00:21,  2.32it/s]"
     ]
    },
    {
     "name": "stdout",
     "output_type": "stream",
     "text": [
      "[I 2025-01-19 12:58:19,349] Trial 0 finished with value: 1359.7466593315216 and parameters: {'n_estimators': 300, 'max_depth': 20, 'min_samples_split': 6, 'min_samples_leaf': 6}. Best is trial 0 with value: 1359.7466593315216.\n"
     ]
    },
    {
     "name": "stderr",
     "output_type": "stream",
     "text": [
      "Best trial: 1. Best value: 1030.25:   4%|▍         | 2/50 [00:00<00:20,  2.36it/s]"
     ]
    },
    {
     "name": "stdout",
     "output_type": "stream",
     "text": [
      "[I 2025-01-19 12:58:19,769] Trial 1 finished with value: 1030.251314143125 and parameters: {'n_estimators': 300, 'max_depth': 20, 'min_samples_split': 6, 'min_samples_leaf': 4}. Best is trial 1 with value: 1030.251314143125.\n"
     ]
    },
    {
     "name": "stderr",
     "output_type": "stream",
     "text": [
      "Best trial: 1. Best value: 1030.25:   6%|▌         | 3/50 [00:01<00:18,  2.49it/s]"
     ]
    },
    {
     "name": "stdout",
     "output_type": "stream",
     "text": [
      "[I 2025-01-19 12:58:20,144] Trial 2 finished with value: 1181.934374751536 and parameters: {'n_estimators': 250, 'max_depth': 20, 'min_samples_split': 6, 'min_samples_leaf': 5}. Best is trial 1 with value: 1030.251314143125.\n"
     ]
    },
    {
     "name": "stderr",
     "output_type": "stream",
     "text": [
      "Best trial: 1. Best value: 1030.25:   8%|▊         | 4/50 [00:01<00:17,  2.65it/s]"
     ]
    },
    {
     "name": "stdout",
     "output_type": "stream",
     "text": [
      "[I 2025-01-19 12:58:20,483] Trial 3 finished with value: 1628.3672468504942 and parameters: {'n_estimators': 200, 'max_depth': 30, 'min_samples_split': 2, 'min_samples_leaf': 7}. Best is trial 1 with value: 1030.251314143125.\n"
     ]
    },
    {
     "name": "stderr",
     "output_type": "stream",
     "text": [
      "Best trial: 1. Best value: 1030.25:  10%|█         | 5/50 [00:01<00:15,  2.93it/s]"
     ]
    },
    {
     "name": "stdout",
     "output_type": "stream",
     "text": [
      "[I 2025-01-19 12:58:20,762] Trial 4 finished with value: 1627.8217753897661 and parameters: {'n_estimators': 150, 'max_depth': 10, 'min_samples_split': 7, 'min_samples_leaf': 7}. Best is trial 1 with value: 1030.251314143125.\n"
     ]
    },
    {
     "name": "stderr",
     "output_type": "stream",
     "text": [
      "Best trial: 5. Best value: 815.907:  12%|█▏        | 6/50 [00:02<00:14,  2.96it/s]"
     ]
    },
    {
     "name": "stdout",
     "output_type": "stream",
     "text": [
      "[I 2025-01-19 12:58:21,091] Trial 5 finished with value: 815.9070566818826 and parameters: {'n_estimators': 200, 'max_depth': None, 'min_samples_split': 10, 'min_samples_leaf': 1}. Best is trial 5 with value: 815.9070566818826.\n"
     ]
    },
    {
     "name": "stderr",
     "output_type": "stream",
     "text": [
      "Best trial: 7. Best value: 704.538:  16%|█▌        | 8/50 [00:02<00:11,  3.69it/s]"
     ]
    },
    {
     "name": "stdout",
     "output_type": "stream",
     "text": [
      "[I 2025-01-19 12:58:21,338] Trial 6 finished with value: 1061.4302987374354 and parameters: {'n_estimators': 100, 'max_depth': None, 'min_samples_split': 7, 'min_samples_leaf': 4}. Best is trial 5 with value: 815.9070566818826.\n",
      "[I 2025-01-19 12:58:21,531] Trial 7 finished with value: 704.5381515531527 and parameters: {'n_estimators': 100, 'max_depth': 30, 'min_samples_split': 7, 'min_samples_leaf': 1}. Best is trial 7 with value: 704.5381515531527.\n"
     ]
    },
    {
     "name": "stderr",
     "output_type": "stream",
     "text": [
      "Best trial: 7. Best value: 704.538:  20%|██        | 10/50 [00:02<00:09,  4.44it/s]"
     ]
    },
    {
     "name": "stdout",
     "output_type": "stream",
     "text": [
      "[I 2025-01-19 12:58:21,717] Trial 8 finished with value: 2209.9522704378114 and parameters: {'n_estimators': 100, 'max_depth': 30, 'min_samples_split': 6, 'min_samples_leaf': 9}. Best is trial 7 with value: 704.5381515531527.\n",
      "[I 2025-01-19 12:58:21,899] Trial 9 finished with value: 1061.4302987374374 and parameters: {'n_estimators': 100, 'max_depth': 10, 'min_samples_split': 8, 'min_samples_leaf': 4}. Best is trial 7 with value: 704.5381515531527.\n"
     ]
    },
    {
     "name": "stderr",
     "output_type": "stream",
     "text": [
      "Best trial: 10. Best value: 670.945:  24%|██▍       | 12/50 [00:03<00:06,  5.60it/s]"
     ]
    },
    {
     "name": "stdout",
     "output_type": "stream",
     "text": [
      "[I 2025-01-19 12:58:22,031] Trial 10 finished with value: 670.9450879450873 and parameters: {'n_estimators': 50, 'max_depth': 30, 'min_samples_split': 4, 'min_samples_leaf': 1}. Best is trial 10 with value: 670.9450879450873.\n",
      "[I 2025-01-19 12:58:22,167] Trial 11 finished with value: 689.4876362076358 and parameters: {'n_estimators': 50, 'max_depth': 30, 'min_samples_split': 3, 'min_samples_leaf': 1}. Best is trial 10 with value: 670.9450879450873.\n"
     ]
    },
    {
     "name": "stderr",
     "output_type": "stream",
     "text": [
      "Best trial: 10. Best value: 670.945:  28%|██▊       | 14/50 [00:03<00:05,  6.30it/s]"
     ]
    },
    {
     "name": "stdout",
     "output_type": "stream",
     "text": [
      "[I 2025-01-19 12:58:22,320] Trial 12 finished with value: 714.2429305007321 and parameters: {'n_estimators': 50, 'max_depth': 30, 'min_samples_split': 3, 'min_samples_leaf': 2}. Best is trial 10 with value: 670.9450879450873.\n",
      "[I 2025-01-19 12:58:22,451] Trial 13 finished with value: 714.2429305007305 and parameters: {'n_estimators': 50, 'max_depth': 30, 'min_samples_split': 4, 'min_samples_leaf': 2}. Best is trial 10 with value: 670.9450879450873.\n"
     ]
    },
    {
     "name": "stderr",
     "output_type": "stream",
     "text": [
      "Best trial: 10. Best value: 670.945:  30%|███       | 15/50 [00:03<00:05,  6.65it/s]"
     ]
    },
    {
     "name": "stdout",
     "output_type": "stream",
     "text": [
      "[I 2025-01-19 12:58:22,583] Trial 14 finished with value: 714.2429305007299 and parameters: {'n_estimators': 50, 'max_depth': 30, 'min_samples_split': 4, 'min_samples_leaf': 2}. Best is trial 10 with value: 670.9450879450873.\n"
     ]
    },
    {
     "name": "stderr",
     "output_type": "stream",
     "text": [
      "Best trial: 10. Best value: 670.945:  34%|███▍      | 17/50 [00:04<00:05,  6.21it/s]"
     ]
    },
    {
     "name": "stdout",
     "output_type": "stream",
     "text": [
      "[I 2025-01-19 12:58:22,842] Trial 15 finished with value: 912.1872656662138 and parameters: {'n_estimators': 150, 'max_depth': 30, 'min_samples_split': 4, 'min_samples_leaf': 3}. Best is trial 10 with value: 670.9450879450873.\n",
      "[I 2025-01-19 12:58:22,951] Trial 16 finished with value: 2515.770833243915 and parameters: {'n_estimators': 50, 'max_depth': 30, 'min_samples_split': 2, 'min_samples_leaf': 10}. Best is trial 10 with value: 670.9450879450873.\n"
     ]
    },
    {
     "name": "stderr",
     "output_type": "stream",
     "text": [
      "Best trial: 10. Best value: 670.945:  38%|███▊      | 19/50 [00:04<00:05,  5.75it/s]"
     ]
    },
    {
     "name": "stdout",
     "output_type": "stream",
     "text": [
      "[I 2025-01-19 12:58:23,215] Trial 17 finished with value: 695.5336236236241 and parameters: {'n_estimators': 150, 'max_depth': None, 'min_samples_split': 4, 'min_samples_leaf': 1}. Best is trial 10 with value: 670.9450879450873.\n",
      "[I 2025-01-19 12:58:23,348] Trial 18 finished with value: 939.3400657184359 and parameters: {'n_estimators': 50, 'max_depth': 10, 'min_samples_split': 3, 'min_samples_leaf': 3}. Best is trial 10 with value: 670.9450879450873.\n"
     ]
    },
    {
     "name": "stderr",
     "output_type": "stream",
     "text": [
      "Best trial: 10. Best value: 670.945:  40%|████      | 20/50 [00:04<00:05,  5.65it/s]"
     ]
    },
    {
     "name": "stdout",
     "output_type": "stream",
     "text": [
      "[I 2025-01-19 12:58:23,532] Trial 19 finished with value: 930.8140077899945 and parameters: {'n_estimators': 100, 'max_depth': 30, 'min_samples_split': 5, 'min_samples_leaf': 3}. Best is trial 10 with value: 670.9450879450873.\n"
     ]
    },
    {
     "name": "stderr",
     "output_type": "stream",
     "text": [
      "Best trial: 10. Best value: 670.945:  42%|████▏     | 21/50 [00:05<00:07,  4.09it/s]"
     ]
    },
    {
     "name": "stdout",
     "output_type": "stream",
     "text": [
      "[I 2025-01-19 12:58:23,933] Trial 20 finished with value: 690.5536988416987 and parameters: {'n_estimators': 250, 'max_depth': 30, 'min_samples_split': 3, 'min_samples_leaf': 1}. Best is trial 10 with value: 670.9450879450873.\n"
     ]
    },
    {
     "name": "stderr",
     "output_type": "stream",
     "text": [
      "Best trial: 10. Best value: 670.945:  44%|████▍     | 22/50 [00:05<00:09,  3.11it/s]"
     ]
    },
    {
     "name": "stdout",
     "output_type": "stream",
     "text": [
      "[I 2025-01-19 12:58:24,437] Trial 21 finished with value: 690.5536988416985 and parameters: {'n_estimators': 250, 'max_depth': 30, 'min_samples_split': 3, 'min_samples_leaf': 1}. Best is trial 10 with value: 670.9450879450873.\n"
     ]
    },
    {
     "name": "stderr",
     "output_type": "stream",
     "text": [
      "Best trial: 10. Best value: 670.945:  46%|████▌     | 23/50 [00:05<00:09,  2.87it/s]"
     ]
    },
    {
     "name": "stdout",
     "output_type": "stream",
     "text": [
      "[I 2025-01-19 12:58:24,848] Trial 22 finished with value: 701.8786124450535 and parameters: {'n_estimators': 250, 'max_depth': 30, 'min_samples_split': 2, 'min_samples_leaf': 2}. Best is trial 10 with value: 670.9450879450873.\n"
     ]
    },
    {
     "name": "stderr",
     "output_type": "stream",
     "text": [
      "Best trial: 10. Best value: 670.945:  48%|████▊     | 24/50 [00:06<00:09,  2.88it/s]"
     ]
    },
    {
     "name": "stdout",
     "output_type": "stream",
     "text": [
      "[I 2025-01-19 12:58:25,192] Trial 23 finished with value: 707.8925749775752 and parameters: {'n_estimators': 200, 'max_depth': 30, 'min_samples_split': 5, 'min_samples_leaf': 1}. Best is trial 10 with value: 670.9450879450873.\n"
     ]
    },
    {
     "name": "stderr",
     "output_type": "stream",
     "text": [
      "Best trial: 10. Best value: 670.945:  50%|█████     | 25/50 [00:06<00:09,  2.73it/s]"
     ]
    },
    {
     "name": "stdout",
     "output_type": "stream",
     "text": [
      "[I 2025-01-19 12:58:25,604] Trial 24 finished with value: 701.8786124450536 and parameters: {'n_estimators': 250, 'max_depth': 30, 'min_samples_split': 3, 'min_samples_leaf': 2}. Best is trial 10 with value: 670.9450879450873.\n"
     ]
    },
    {
     "name": "stderr",
     "output_type": "stream",
     "text": [
      "Best trial: 10. Best value: 670.945:  52%|█████▏    | 26/50 [00:07<00:09,  2.49it/s]"
     ]
    },
    {
     "name": "stdout",
     "output_type": "stream",
     "text": [
      "[I 2025-01-19 12:58:26,086] Trial 25 finished with value: 909.3444973524884 and parameters: {'n_estimators': 300, 'max_depth': 30, 'min_samples_split': 5, 'min_samples_leaf': 3}. Best is trial 10 with value: 670.9450879450873.\n"
     ]
    },
    {
     "name": "stderr",
     "output_type": "stream",
     "text": [
      "Best trial: 27. Best value: 661.494:  56%|█████▌    | 28/50 [00:07<00:06,  3.38it/s]"
     ]
    },
    {
     "name": "stdout",
     "output_type": "stream",
     "text": [
      "[I 2025-01-19 12:58:26,353] Trial 26 finished with value: 1185.554487901267 and parameters: {'n_estimators': 150, 'max_depth': 20, 'min_samples_split': 3, 'min_samples_leaf': 5}. Best is trial 10 with value: 670.9450879450873.\n",
      "[I 2025-01-19 12:58:26,496] Trial 27 finished with value: 661.4936936936938 and parameters: {'n_estimators': 50, 'max_depth': 10, 'min_samples_split': 2, 'min_samples_leaf': 1}. Best is trial 27 with value: 661.4936936936938.\n"
     ]
    },
    {
     "name": "stderr",
     "output_type": "stream",
     "text": [
      "Best trial: 27. Best value: 661.494:  60%|██████    | 30/50 [00:07<00:04,  4.46it/s]"
     ]
    },
    {
     "name": "stdout",
     "output_type": "stream",
     "text": [
      "[I 2025-01-19 12:58:26,615] Trial 28 finished with value: 2063.599929125309 and parameters: {'n_estimators': 50, 'max_depth': 10, 'min_samples_split': 2, 'min_samples_leaf': 8}. Best is trial 27 with value: 661.4936936936938.\n",
      "[I 2025-01-19 12:58:26,798] Trial 29 finished with value: 1371.7859632303978 and parameters: {'n_estimators': 100, 'max_depth': 10, 'min_samples_split': 2, 'min_samples_leaf': 6}. Best is trial 27 with value: 661.4936936936938.\n"
     ]
    },
    {
     "name": "stderr",
     "output_type": "stream",
     "text": [
      "Best trial: 27. Best value: 661.494:  64%|██████▍   | 32/50 [00:08<00:03,  5.76it/s]"
     ]
    },
    {
     "name": "stdout",
     "output_type": "stream",
     "text": [
      "[I 2025-01-19 12:58:26,929] Trial 30 finished with value: 714.2429305007303 and parameters: {'n_estimators': 50, 'max_depth': 10, 'min_samples_split': 4, 'min_samples_leaf': 2}. Best is trial 27 with value: 661.4936936936938.\n",
      "[I 2025-01-19 12:58:27,049] Trial 31 finished with value: 689.4876362076365 and parameters: {'n_estimators': 50, 'max_depth': 10, 'min_samples_split': 3, 'min_samples_leaf': 1}. Best is trial 27 with value: 661.4936936936938.\n"
     ]
    },
    {
     "name": "stderr",
     "output_type": "stream",
     "text": [
      "Best trial: 27. Best value: 661.494:  68%|██████▊   | 34/50 [00:08<00:02,  5.97it/s]"
     ]
    },
    {
     "name": "stdout",
     "output_type": "stream",
     "text": [
      "[I 2025-01-19 12:58:27,167] Trial 32 finished with value: 661.4936936936938 and parameters: {'n_estimators': 50, 'max_depth': 10, 'min_samples_split': 2, 'min_samples_leaf': 1}. Best is trial 27 with value: 661.4936936936938.\n",
      "[I 2025-01-19 12:58:27,359] Trial 33 finished with value: 930.8140077899945 and parameters: {'n_estimators': 100, 'max_depth': 10, 'min_samples_split': 2, 'min_samples_leaf': 3}. Best is trial 27 with value: 661.4936936936938.\n"
     ]
    },
    {
     "name": "stderr",
     "output_type": "stream",
     "text": [
      "Best trial: 27. Best value: 661.494:  72%|███████▏  | 36/50 [00:08<00:02,  5.90it/s]"
     ]
    },
    {
     "name": "stdout",
     "output_type": "stream",
     "text": [
      "[I 2025-01-19 12:58:27,492] Trial 34 finished with value: 714.2429305007317 and parameters: {'n_estimators': 50, 'max_depth': 20, 'min_samples_split': 2, 'min_samples_leaf': 2}. Best is trial 27 with value: 661.4936936936938.\n",
      "[I 2025-01-19 12:58:27,690] Trial 35 finished with value: 691.4126820326813 and parameters: {'n_estimators': 50, 'max_depth': 10, 'min_samples_split': 5, 'min_samples_leaf': 1}. Best is trial 27 with value: 661.4936936936938.\n"
     ]
    },
    {
     "name": "stderr",
     "output_type": "stream",
     "text": [
      "Best trial: 27. Best value: 661.494:  76%|███████▌  | 38/50 [00:09<00:01,  6.16it/s]"
     ]
    },
    {
     "name": "stdout",
     "output_type": "stream",
     "text": [
      "[I 2025-01-19 12:58:27,877] Trial 36 finished with value: 1056.96780088498 and parameters: {'n_estimators': 100, 'max_depth': 20, 'min_samples_split': 10, 'min_samples_leaf': 4}. Best is trial 27 with value: 661.4936936936938.\n",
      "[I 2025-01-19 12:58:28,010] Trial 37 finished with value: 714.2429305007303 and parameters: {'n_estimators': 50, 'max_depth': None, 'min_samples_split': 2, 'min_samples_leaf': 2}. Best is trial 27 with value: 661.4936936936938.\n"
     ]
    },
    {
     "name": "stderr",
     "output_type": "stream",
     "text": [
      "Best trial: 27. Best value: 661.494:  80%|████████  | 40/50 [00:09<00:01,  5.66it/s]"
     ]
    },
    {
     "name": "stdout",
     "output_type": "stream",
     "text": [
      "[I 2025-01-19 12:58:28,204] Trial 38 finished with value: 683.1387129987127 and parameters: {'n_estimators': 100, 'max_depth': 10, 'min_samples_split': 3, 'min_samples_leaf': 1}. Best is trial 27 with value: 661.4936936936938.\n",
      "[I 2025-01-19 12:58:28,392] Trial 39 finished with value: 1199.5039764721748 and parameters: {'n_estimators': 100, 'max_depth': 10, 'min_samples_split': 4, 'min_samples_leaf': 5}. Best is trial 27 with value: 661.4936936936938.\n"
     ]
    },
    {
     "name": "stderr",
     "output_type": "stream",
     "text": [
      "Best trial: 27. Best value: 661.494:  84%|████████▍ | 42/50 [00:09<00:01,  5.97it/s]"
     ]
    },
    {
     "name": "stdout",
     "output_type": "stream",
     "text": [
      "[I 2025-01-19 12:58:28,587] Trial 40 finished with value: 1693.5961854881316 and parameters: {'n_estimators': 100, 'max_depth': 10, 'min_samples_split': 2, 'min_samples_leaf': 7}. Best is trial 27 with value: 661.4936936936938.\n",
      "[I 2025-01-19 12:58:28,720] Trial 41 finished with value: 689.487636207636 and parameters: {'n_estimators': 50, 'max_depth': 10, 'min_samples_split': 3, 'min_samples_leaf': 1}. Best is trial 27 with value: 661.4936936936938.\n"
     ]
    },
    {
     "name": "stderr",
     "output_type": "stream",
     "text": [
      "Best trial: 27. Best value: 661.494:  88%|████████▊ | 44/50 [00:10<00:00,  6.55it/s]"
     ]
    },
    {
     "name": "stdout",
     "output_type": "stream",
     "text": [
      "[I 2025-01-19 12:58:28,865] Trial 42 finished with value: 689.4876362076358 and parameters: {'n_estimators': 50, 'max_depth': 10, 'min_samples_split': 3, 'min_samples_leaf': 1}. Best is trial 27 with value: 661.4936936936938.\n",
      "[I 2025-01-19 12:58:28,999] Trial 43 finished with value: 720.08501682261 and parameters: {'n_estimators': 50, 'max_depth': 10, 'min_samples_split': 8, 'min_samples_leaf': 2}. Best is trial 27 with value: 661.4936936936938.\n"
     ]
    },
    {
     "name": "stderr",
     "output_type": "stream",
     "text": [
      "Best trial: 44. Best value: 654.793:  90%|█████████ | 45/50 [00:10<00:00,  5.91it/s]"
     ]
    },
    {
     "name": "stdout",
     "output_type": "stream",
     "text": [
      "[I 2025-01-19 12:58:29,207] Trial 44 finished with value: 654.7927927927929 and parameters: {'n_estimators': 100, 'max_depth': None, 'min_samples_split': 2, 'min_samples_leaf': 1}. Best is trial 44 with value: 654.7927927927929.\n"
     ]
    },
    {
     "name": "stderr",
     "output_type": "stream",
     "text": [
      "Best trial: 44. Best value: 654.793:  92%|█████████▏| 46/50 [00:10<00:00,  5.02it/s]"
     ]
    },
    {
     "name": "stdout",
     "output_type": "stream",
     "text": [
      "[I 2025-01-19 12:58:29,476] Trial 45 finished with value: 671.8264264264265 and parameters: {'n_estimators': 150, 'max_depth': None, 'min_samples_split': 2, 'min_samples_leaf': 1}. Best is trial 44 with value: 654.7927927927929.\n"
     ]
    },
    {
     "name": "stderr",
     "output_type": "stream",
     "text": [
      "Best trial: 44. Best value: 654.793:  94%|█████████▍| 47/50 [00:10<00:00,  4.56it/s]"
     ]
    },
    {
     "name": "stdout",
     "output_type": "stream",
     "text": [
      "[I 2025-01-19 12:58:29,743] Trial 46 finished with value: 696.9841983283306 and parameters: {'n_estimators': 150, 'max_depth': None, 'min_samples_split': 2, 'min_samples_leaf': 2}. Best is trial 44 with value: 654.7927927927929.\n"
     ]
    },
    {
     "name": "stderr",
     "output_type": "stream",
     "text": [
      "Best trial: 44. Best value: 654.793:  96%|█████████▌| 48/50 [00:11<00:00,  4.20it/s]"
     ]
    },
    {
     "name": "stdout",
     "output_type": "stream",
     "text": [
      "[I 2025-01-19 12:58:30,024] Trial 47 finished with value: 1047.2164027038707 and parameters: {'n_estimators': 150, 'max_depth': None, 'min_samples_split': 2, 'min_samples_leaf': 4}. Best is trial 44 with value: 654.7927927927929.\n"
     ]
    },
    {
     "name": "stderr",
     "output_type": "stream",
     "text": [
      "Best trial: 44. Best value: 654.793:  98%|█████████▊| 49/50 [00:11<00:00,  4.35it/s]"
     ]
    },
    {
     "name": "stdout",
     "output_type": "stream",
     "text": [
      "[I 2025-01-19 12:58:30,234] Trial 48 finished with value: 905.0237889469856 and parameters: {'n_estimators': 100, 'max_depth': None, 'min_samples_split': 9, 'min_samples_leaf': 3}. Best is trial 44 with value: 654.7927927927929.\n"
     ]
    },
    {
     "name": "stderr",
     "output_type": "stream",
     "text": [
      "Best trial: 44. Best value: 654.793: 100%|██████████| 50/50 [00:11<00:00,  4.28it/s]"
     ]
    },
    {
     "name": "stdout",
     "output_type": "stream",
     "text": [
      "[I 2025-01-19 12:58:30,596] Trial 49 finished with value: 712.75747911748 and parameters: {'n_estimators': 200, 'max_depth': None, 'min_samples_split': 6, 'min_samples_leaf': 1}. Best is trial 44 with value: 654.7927927927929.\n",
      "Number of finished trials: 50\n",
      "Best trial:\n",
      "  Value (MAE): 654.79\n",
      "  Params: \n",
      "    n_estimators: 100\n",
      "    max_depth: None\n",
      "    min_samples_split: 2\n",
      "    min_samples_leaf: 1\n",
      "MAE en test con hiperparámetros óptimos: 470.00\n"
     ]
    },
    {
     "name": "stderr",
     "output_type": "stream",
     "text": [
      "\n"
     ]
    }
   ],
   "source": [
    "run_optuna_search(df, n_trials=50)"
   ]
  }
 ],
 "metadata": {
  "kernelspec": {
   "display_name": "predictive_salary_model-EQFagWwt",
   "language": "python",
   "name": "python3"
  },
  "language_info": {
   "codemirror_mode": {
    "name": "ipython",
    "version": 3
   },
   "file_extension": ".py",
   "mimetype": "text/x-python",
   "name": "python",
   "nbconvert_exporter": "python",
   "pygments_lexer": "ipython3",
   "version": "3.13.0"
  }
 },
 "nbformat": 4,
 "nbformat_minor": 2
}
