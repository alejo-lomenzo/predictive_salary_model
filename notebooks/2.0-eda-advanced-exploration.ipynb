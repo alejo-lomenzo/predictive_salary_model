{
 "cells": [
  {
   "cell_type": "markdown",
   "metadata": {},
   "source": [
    "# # Table of Contents\n",
    "# 1. [Importing Libraries](#import-libraries)\n",
    "# 2. [Advanced Exploratory Analysis (EDA)](#eda-advanced)\n",
    "# 3. [Correlations, Boxplots, and Histograms](#plots)\n",
    "# 4. [Categorical vs. Salary](#cat-vs-salary)\n",
    "# 5. [Scatter Experience vs. Age vs. Salary](#scatter)"
   ]
  },
  {
   "cell_type": "markdown",
   "metadata": {},
   "source": [
    "# # Importing Libraries <a id=\"import-libraries\"></a>"
   ]
  },
  {
   "cell_type": "code",
   "execution_count": 1,
   "metadata": {},
   "outputs": [
    {
     "name": "stderr",
     "output_type": "stream",
     "text": [
      "\u001b[32m2025-01-19 20:52:39.417\u001b[0m | \u001b[1mINFO    \u001b[0m | \u001b[36mproject_pwc.config\u001b[0m:\u001b[36m<module>\u001b[0m:\u001b[36m11\u001b[0m - \u001b[1mPROJ_ROOT path is: C:\\Users\\Usuario\\Documents\\prueba_pwc\\predictive_salary_model\u001b[0m\n"
     ]
    }
   ],
   "source": [
    "import os\n",
    "import pandas as pd\n",
    "import seaborn as sns\n",
    "import matplotlib.pyplot as plt\n",
    "\n",
    "from typing import Optional, List\n",
    "from project_pwc.config import FIGURES_DIR\n",
    "\n",
    "sns.set_style(\"whitegrid\")\n",
    "plt.rcParams[\"figure.figsize\"] = (10, 6)\n",
    "num_cols = [\"Age\", \"Years of Experience\", \"Salary\"]"
   ]
  },
  {
   "cell_type": "markdown",
   "metadata": {},
   "source": [
    "# # Advanced Exploratory Analysis (EDA) <a id=\"eda-advanced\"></a>"
   ]
  },
  {
   "cell_type": "code",
   "execution_count": 4,
   "metadata": {},
   "outputs": [],
   "source": [
    "df_clean = pd.read_csv('C:/Users/Usuario/Documents/prueba_pwc/predictive_salary_model/data/interim/dataset_cleaned.csv')"
   ]
  },
  {
   "cell_type": "code",
   "execution_count": 3,
   "metadata": {},
   "outputs": [
    {
     "name": "stdout",
     "output_type": "stream",
     "text": [
      "<class 'pandas.core.frame.DataFrame'>\n",
      "RangeIndex: 373 entries, 0 to 372\n",
      "Data columns (total 8 columns):\n",
      " #   Column               Non-Null Count  Dtype  \n",
      "---  ------               --------------  -----  \n",
      " 0   id                   373 non-null    int64  \n",
      " 1   Age                  373 non-null    int64  \n",
      " 2   Gender               373 non-null    object \n",
      " 3   Education Level      373 non-null    object \n",
      " 4   Job Title            373 non-null    object \n",
      " 5   Years of Experience  373 non-null    int64  \n",
      " 6   Salary               373 non-null    float64\n",
      " 7   Description          373 non-null    object \n",
      "dtypes: float64(1), int64(3), object(4)\n",
      "memory usage: 23.4+ KB\n"
     ]
    }
   ],
   "source": [
    "df_clean.info()"
   ]
  },
  {
   "cell_type": "markdown",
   "metadata": {},
   "source": [
    "# # Correlations, Boxplots and Histograms <a id=\"plots\"></a>"
   ]
  },
  {
   "cell_type": "code",
   "execution_count": 31,
   "metadata": {},
   "outputs": [],
   "source": [
    "def plot_correlation_heatmap(df: pd.DataFrame, numerical_cols: List[str], filename: str = \"correlation_heatmap.png\") -> None:\n",
    "    \n",
    "    corr_matrix = df[numerical_cols].corr()\n",
    "\n",
    "    plt.figure(figsize=(8, 6))\n",
    "    sns.heatmap(corr_matrix, annot=True, cmap=\"coolwarm\", fmt=\".2f\")\n",
    "    plt.title(\"Correlation Heatmap\")\n",
    "    \n",
    "    output_path = os.path.join(FIGURES_DIR, filename)\n",
    "    plt.savefig(output_path)\n",
    "    print(f\"Heatmap guardado en: {output_path}\")\n",
    "\n",
    "plot_correlation_heatmap(df_clean, num_cols)"
   ]
  },
  {
   "cell_type": "markdown",
   "metadata": {},
   "source": [
    "Description\n",
    "\n",
    "The correlation between Age, Years of Experience and Salary is shown.\n",
    "We observe that Age and Years of Experience have a very high correlation (~0.98), and both are strongly related to Salary (~0.92 and ~0.93, respectively).\n",
    "Conclusions\n",
    "\n",
    "This level of correlation suggests multicollinearity: in a linear model, it could cause instability in the coefficients.\n",
    "The three variables are very relevant to explain the variation in Salary, but perhaps only one of them (Age or Experience) is sufficient in linear models.\n",
    "In tree algorithms (RandomForest, XGBoost) this redundancy has less impact, but it is good to keep it in mind."
   ]
  },
  {
   "cell_type": "code",
   "execution_count": null,
   "metadata": {},
   "outputs": [],
   "source": [
    "def plot_boxplots(df: pd.DataFrame, numerical_cols: List[str], prefix: str = \"boxplot\") -> None:\n",
    "\n",
    "    for col in numerical_cols:\n",
    "        plt.figure(figsize=(5, 4))\n",
    "        sns.boxplot(x=df[col])\n",
    "        plt.title(f\"Boxplot for {col}\")\n",
    "        \n",
    "        filename = f\"{prefix}_{col}.png\"\n",
    "        output_path = os.path.join(FIGURES_DIR, filename)\n",
    "        plt.savefig(output_path)\n",
    "        print(f\"Boxplot de {col} guardado en: {output_path}\")\n",
    "\n",
    "plot_boxplots(df_clean, num_cols)"
   ]
  },
  {
   "cell_type": "markdown",
   "metadata": {},
   "source": [
    "Description\n",
    "\n",
    "Each boxplot reveals the distribution and possible outliers:\n",
    "Age: Range 23–53, median near 36, no extreme outliers.\n",
    "Years of Experience: Range 0–25, peaks at 5–10 years and occasional cases of 20+ years.\n",
    "Salary: Range ~350–250,000, with median ~95,000 and high values ​​exceeding 200,000.\n",
    "Conclusions\n",
    "\n",
    "Age does not present anomalous values.\n",
    "Experience may have marked jumps (new vs. very experienced).\n",
    "Salary is skewed to the right; there are few very high values ​​that could be considered outliers in linear models."
   ]
  },
  {
   "cell_type": "code",
   "execution_count": null,
   "metadata": {},
   "outputs": [],
   "source": [
    "def plot_histograms(df: pd.DataFrame, numerical_cols: List[str], prefix: str = \"histogram\") -> None:\n",
    "\n",
    "    for col in numerical_cols:\n",
    "        plt.figure(figsize=(5, 4))\n",
    "        sns.histplot(df[col], kde=True, color=\"teal\", bins=20)\n",
    "        plt.title(f\"Distribution of {col}\")\n",
    "\n",
    "        filename = f\"{prefix}_{col}.png\"\n",
    "        output_path = os.path.join(FIGURES_DIR, filename)\n",
    "        plt.savefig(output_path)\n",
    "        print(f\"Histograma de {col} guardado en: {output_path}\")\n",
    "\n",
    "plot_histograms(df_clean, num_cols)"
   ]
  },
  {
   "cell_type": "markdown",
   "metadata": {},
   "source": [
    "Description\n",
    "\n",
    "Age: Almost normal approximation, with highest density between 30–40 years.\n",
    "Years of Experience: More irregular distribution; a peak in the first years (0–5) and another around ~15.\n",
    "Salary: Marked skew to the right (long tail); the main group is located between 50,000 and 120,000, but there are also salaries up to 250,000.\n",
    "Conclusions\n",
    "\n",
    "With such an asymmetric distribution in Salary, you could apply a log transformation for methods such as Linear Regression.\n",
    "The idea of ​​creating “bins” for Experience (junior, semi-senior, senior, etc.) is confirmed given its non-uniform distribution."
   ]
  },
  {
   "cell_type": "markdown",
   "metadata": {},
   "source": [
    "# # Categorical vs. Salary <a id=\"cat-vs-salary\"></a>"
   ]
  },
  {
   "cell_type": "code",
   "execution_count": null,
   "metadata": {},
   "outputs": [],
   "source": [
    "def analyze_categorical_vs_salary(df: pd.DataFrame, cat_col: str, salary_col: str = \"Salary\") -> None:\n",
    "\n",
    "    mean_salary_by_cat = df.groupby(cat_col)[salary_col].mean().sort_values(ascending=False)\n",
    "    print(f\"=== Mean {salary_col} by {cat_col} ===\\n{mean_salary_by_cat}\\n\")\n",
    "\n",
    "    plt.figure(figsize=(8, 4))\n",
    "    sns.violinplot(data=df, x=cat_col, y=salary_col, palette=\"viridis\")\n",
    "    plt.title(f\"{salary_col} distribution by {cat_col}\")\n",
    "    \n",
    "    output_filename = f\"violin_{cat_col}.png\"\n",
    "    output_path = os.path.join(FIGURES_DIR, output_filename)\n",
    "    plt.savefig(output_path)\n",
    "    print(f\"Violinplot guardado en: {output_path}\")\n",
    "\n",
    "analyze_categorical_vs_salary(df_clean, \"Education Level\")"
   ]
  },
  {
   "cell_type": "markdown",
   "metadata": {},
   "source": [
    "* Gender: The violinplot suggests differences in the median and extreme values ​​of salary (male vs. female vs. missing).\n",
    "* Education Level: Salary tends to be higher as academic training increases (PhD > Master’s > Bachelor’s), although with overlaps between categories.\n",
    "\n",
    "Implications:\n",
    "Both categorical variables (Gender, Education Level) could have predictive power.\n",
    "The treatment of “Missing” in both cases (gender or educational level) is important; it is convenient to keep it as an additional category so as not to lose records.\n",
    "One-Hot Encoding or other coding strategies that reflect educational level and gender in the modeling are recommended."
   ]
  },
  {
   "cell_type": "markdown",
   "metadata": {},
   "source": [
    "# # Scatter Experience vs. Age vs. Salary <a id=\"scatter\"></a>"
   ]
  },
  {
   "cell_type": "code",
   "execution_count": null,
   "metadata": {},
   "outputs": [],
   "source": [
    "def scatter_experience_age_salary(df: pd.DataFrame,\n",
    "                                  x_col: str = \"Age\",\n",
    "                                  y_col: str = \"Years of Experience\",\n",
    "                                  hue_col: Optional[str] = \"Gender\",\n",
    "                                  size_col: Optional[str] = \"Salary\",\n",
    "                                  filename: str = \"scatter_experience_age_salary.png\") -> None:\n",
    "\n",
    "    plt.figure(figsize=(8, 5))\n",
    "    sns.scatterplot(data=df, x=x_col, y=y_col, hue=hue_col, size=size_col, sizes=(20, 200), alpha=0.7)\n",
    "    plt.title(f\"{y_col} vs {x_col} (hue={hue_col}, size={size_col})\")\n",
    "    \n",
    "    output_path = os.path.join(FIGURES_DIR, filename)\n",
    "    plt.savefig(output_path)\n",
    "    print(f\"Scatterplot guardado en: {output_path}\")\n",
    "\n",
    "scatter_experience_age_salary(df_clean)"
   ]
  },
  {
   "cell_type": "markdown",
   "metadata": {},
   "source": [
    "Description\n",
    "\n",
    "There is an almost linear relationship: the older the person, the more experience, which confirms the strong numerical correlation.\n",
    "The large points (representing high salaries) are usually in the area of ​​greater experience and/or age, although there are exceptions.\n",
    "The color suggests that both men and women are distributed along the entire diagonal, with notable variations in size (Salary).\n",
    "Conclusions\n",
    "\n",
    "This is a clear indication of multicollinearity between age and experience.\n",
    "A high Salary usually coincides with a greater range of experience/age, but there are also medium or high cases in intermediate ranges.\n",
    "You could eliminate one of the two variables in linear models or create a third (for example, Age - YearsExperience) if you want to capture the idea of ​​“career start age”."
   ]
  }
 ],
 "metadata": {
  "kernelspec": {
   "display_name": "predictive_salary_model-EQFagWwt",
   "language": "python",
   "name": "python3"
  },
  "language_info": {
   "codemirror_mode": {
    "name": "ipython",
    "version": 3
   },
   "file_extension": ".py",
   "mimetype": "text/x-python",
   "name": "python",
   "nbconvert_exporter": "python",
   "pygments_lexer": "ipython3",
   "version": "3.13.0"
  }
 },
 "nbformat": 4,
 "nbformat_minor": 2
}
